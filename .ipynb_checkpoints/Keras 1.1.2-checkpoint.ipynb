{
 "cells": [
  {
   "cell_type": "code",
   "execution_count": 6,
   "metadata": {},
   "outputs": [],
   "source": [
    "# import modules\n",
    "%matplotlib inline\n",
    "import matplotlib.pylab as plt\n",
    "import os\n",
    "import numpy as np\n",
    "import pandas as pd\n",
    "from scipy.misc import imread\n",
    "\n",
    "import keras\n",
    "from keras.models import Sequential\n",
    "from keras.layers import Dense, Flatten, Reshape, InputLayer\n",
    "from keras.regularizers import L1L2"
   ]
  },
  {
   "cell_type": "code",
   "execution_count": 7,
   "metadata": {
    "collapsed": true
   },
   "outputs": [],
   "source": [
    "# to stop potential randomness\n",
    "seed = 128\n",
    "rng = np.random.RandomState(seed)"
   ]
  },
  {
   "cell_type": "code",
   "execution_count": 8,
   "metadata": {},
   "outputs": [],
   "source": [
    "# set path\n",
    "root_dir = os.path.abspath('.')\n",
    "data_dir = os.path.join(root_dir, 'Data')\n",
    "# load data\n",
    "train = pd.read_csv(os.path.join(data_dir, 'Train', 'train.csv'))\n",
    "test = pd.read_csv(os.path.join(data_dir, 'test.csv'))\n",
    "\n",
    "temp = []\n",
    "for img_name in train.filename:\n",
    "    image_path = os.path.join(data_dir, 'Train', 'Images', 'train', img_name)\n",
    "    img = imread(image_path, flatten=True)\n",
    "    img = img.astype('float32')\n",
    "    temp.append(img)\n",
    "    \n",
    "train_x = np.stack(temp)\n",
    "\n",
    "train_x = train_x / 255."
   ]
  },
  {
   "cell_type": "code",
   "execution_count": 10,
   "metadata": {},
   "outputs": [
    {
     "data": {
      "image/png": "[encoded data removed]",
      "text/plain": [
       "<matplotlib.figure.Figure at 0x1a20747b38>"
      ]
     },
     "metadata": {},
     "output_type": "display_data"
    }
   ],
   "source": [
    "# print image\n",
    "img_name = rng.choice(train.filename)\n",
    "filepath = os.path.join(data_dir, 'Train', 'Images', 'train', img_name)\n",
    "\n",
    "img = imread(filepath, flatten=True)\n",
    "\n",
    "plt.imshow(img, cmap='gray')\n",
    "plt.axis('off')\n",
    "plt.show()"
   ]
  },
  {
   "cell_type": "code",
   "execution_count": 11,
   "metadata": {
    "collapsed": true
   },
   "outputs": [],
   "source": [
    "# define vars \n",
    "g_input_shape = 100 \n",
    "d_input_shape = (28, 28) \n",
    "hidden_1_num_units = 500 \n",
    "hidden_2_num_units = 500 \n",
    "g_output_num_units = 784 \n",
    "d_output_num_units = 1 \n",
    "epochs = 25 \n",
    "batch_size = 128"
   ]
  },
  {
   "cell_type": "code",
   "execution_count": 12,
   "metadata": {
    "collapsed": true
   },
   "outputs": [],
   "source": [
    "# generator\n",
    "model_1 = Sequential([\n",
    "    Dense(units=hidden_1_num_units, input_dim=g_input_shape, activation='relu', kernel_regularizer=L1L2(1e-5, 1e-5)),\n",
    "\n",
    "    Dense(units=hidden_2_num_units, activation='relu', kernel_regularizer=L1L2(1e-5, 1e-5)),\n",
    "        \n",
    "    Dense(units=g_output_num_units, activation='sigmoid', kernel_regularizer=L1L2(1e-5, 1e-5)),\n",
    "    \n",
    "    Reshape(d_input_shape),\n",
    "])\n",
    "\n",
    "# discriminator\n",
    "model_2 = Sequential([\n",
    "    InputLayer(input_shape=d_input_shape),\n",
    "    \n",
    "    Flatten(),\n",
    "        \n",
    "    Dense(units=hidden_1_num_units, activation='relu', kernel_regularizer=L1L2(1e-5, 1e-5)),\n",
    "\n",
    "    Dense(units=hidden_2_num_units, activation='relu', kernel_regularizer=L1L2(1e-5, 1e-5)),\n",
    "        \n",
    "    Dense(units=d_output_num_units, activation='sigmoid', kernel_regularizer=L1L2(1e-5, 1e-5)),\n",
    "])"
   ]
  },
  {
   "cell_type": "code",
   "execution_count": 13,
   "metadata": {},
   "outputs": [
    {
     "name": "stdout",
     "output_type": "stream",
     "text": [
      "_________________________________________________________________\n",
      "Layer (type)                 Output Shape              Param #   \n",
      "=================================================================\n",
      "dense_1 (Dense)              (None, 500)               50500     \n",
      "_________________________________________________________________\n",
      "dense_2 (Dense)              (None, 500)               250500    \n",
      "_________________________________________________________________\n",
      "dense_3 (Dense)              (None, 784)               392784    \n",
      "_________________________________________________________________\n",
      "reshape_1 (Reshape)          (None, 28, 28)            0         \n",
      "=================================================================\n",
      "Total params: 693,784\n",
      "Trainable params: 693,784\n",
      "Non-trainable params: 0\n",
      "_________________________________________________________________\n"
     ]
    }
   ],
   "source": [
    "model_1.summary()"
   ]
  },
  {
   "cell_type": "code",
   "execution_count": 14,
   "metadata": {},
   "outputs": [
    {
     "name": "stdout",
     "output_type": "stream",
     "text": [
      "_________________________________________________________________\n",
      "Layer (type)                 Output Shape              Param #   \n",
      "=================================================================\n",
      "input_1 (InputLayer)         (None, 28, 28)            0         \n",
      "_________________________________________________________________\n",
      "flatten_1 (Flatten)          (None, 784)               0         \n",
      "_________________________________________________________________\n",
      "dense_4 (Dense)              (None, 500)               392500    \n",
      "_________________________________________________________________\n",
      "dense_5 (Dense)              (None, 500)               250500    \n",
      "_________________________________________________________________\n",
      "dense_6 (Dense)              (None, 1)                 501       \n",
      "=================================================================\n",
      "Total params: 643,501\n",
      "Trainable params: 643,501\n",
      "Non-trainable params: 0\n",
      "_________________________________________________________________\n"
     ]
    }
   ],
   "source": [
    "model_2.summary()"
   ]
  },
  {
   "cell_type": "code",
   "execution_count": 15,
   "metadata": {
    "collapsed": true
   },
   "outputs": [],
   "source": [
    "from keras_adversarial import AdversarialModel, simple_gan, gan_targets\n",
    "from keras_adversarial import AdversarialOptimizerSimultaneous, normal_latent_sampling"
   ]
  },
  {
   "cell_type": "code",
   "execution_count": 16,
   "metadata": {
    "collapsed": true
   },
   "outputs": [],
   "source": [
    "gan = simple_gan(model_1, model_2, normal_latent_sampling((100,)))\n",
    "model = AdversarialModel(base_model=gan,player_params=[model_1.trainable_weights, model_2.trainable_weights])\n",
    "model.adversarial_compile(adversarial_optimizer=AdversarialOptimizerSimultaneous(), player_optimizers=['adam', 'adam'], loss='binary_crossentropy')"
   ]
  },
  {
   "cell_type": "code",
   "execution_count": 24,
   "metadata": {},
   "outputs": [],
   "source": [
    "train_x_1 = train_x[train[\"label\"] == 1]"
   ]
  },
  {
   "cell_type": "code",
   "execution_count": 29,
   "metadata": {},
   "outputs": [
    {
     "name": "stdout",
     "output_type": "stream",
     "text": [
      "Epoch 1/50\n",
      "3s - loss: 23.3677 - player_0_loss: 22.5302 - player_0_yfake_loss: 11.2247 - player_0_yreal_loss: 10.4804 - player_1_loss: 0.8375 - player_1_yfake_loss: 0.0038 - player_1_yreal_loss: 0.0085\n",
      "Epoch 2/50\n",
      "3s - loss: 19.2181 - player_0_loss: 18.3860 - player_0_yfake_loss: 8.1995 - player_0_yreal_loss: 9.3651 - player_1_loss: 0.8321 - player_1_yfake_loss: 0.0037 - player_1_yreal_loss: 0.0070\n",
      "Epoch 3/50\n",
      "3s - loss: 16.8851 - player_0_loss: 16.0581 - player_0_yfake_loss: 6.8188 - player_0_yreal_loss: 8.4206 - player_1_loss: 0.8270 - player_1_yfake_loss: 0.0036 - player_1_yreal_loss: 0.0049\n",
      "Epoch 4/50\n",
      "3s - loss: 16.2515 - player_0_loss: 15.4391 - player_0_yfake_loss: 6.5466 - player_0_yreal_loss: 8.0879 - player_1_loss: 0.8124 - player_1_yfake_loss: 0.0041 - player_1_yreal_loss: 0.0037\n",
      "Epoch 5/50\n",
      "3s - loss: 17.8082 - player_0_loss: 17.0148 - player_0_yfake_loss: 7.5176 - player_0_yreal_loss: 8.7107 - player_1_loss: 0.7934 - player_1_yfake_loss: 0.0035 - player_1_yreal_loss: 0.0034\n",
      "Epoch 6/50\n",
      "3s - loss: 16.6222 - player_0_loss: 15.8520 - player_0_yfake_loss: 6.5235 - player_0_yreal_loss: 8.5629 - player_1_loss: 0.7702 - player_1_yfake_loss: 0.0022 - player_1_yreal_loss: 0.0024\n",
      "Epoch 7/50\n",
      "3s - loss: 14.1359 - player_0_loss: 13.3772 - player_0_yfake_loss: 5.8270 - player_0_yreal_loss: 6.8022 - player_1_loss: 0.7586 - player_1_yfake_loss: 0.0051 - player_1_yreal_loss: 0.0055\n",
      "Epoch 8/50\n",
      "3s - loss: 12.7385 - player_0_loss: 11.9806 - player_0_yfake_loss: 5.0771 - player_0_yreal_loss: 6.1677 - player_1_loss: 0.7579 - player_1_yfake_loss: 0.0106 - player_1_yreal_loss: 0.0114\n",
      "Epoch 9/50\n",
      "3s - loss: 13.6173 - player_0_loss: 12.8454 - player_0_yfake_loss: 5.0515 - player_0_yreal_loss: 7.0523 - player_1_loss: 0.7719 - player_1_yfake_loss: 0.0117 - player_1_yreal_loss: 0.0185\n",
      "Epoch 10/50\n",
      "3s - loss: 14.7253 - player_0_loss: 13.9314 - player_0_yfake_loss: 5.8373 - player_0_yreal_loss: 7.3319 - player_1_loss: 0.7940 - player_1_yfake_loss: 0.0148 - player_1_yreal_loss: 0.0169\n",
      "Epoch 11/50\n",
      "3s - loss: 14.4912 - player_0_loss: 13.6857 - player_0_yfake_loss: 5.1610 - player_0_yreal_loss: 7.7463 - player_1_loss: 0.8054 - player_1_yfake_loss: 0.0114 - player_1_yreal_loss: 0.0156\n",
      "Epoch 12/50\n",
      "3s - loss: 15.0085 - player_0_loss: 14.1840 - player_0_yfake_loss: 5.0848 - player_0_yreal_loss: 8.3184 - player_1_loss: 0.8245 - player_1_yfake_loss: 0.0210 - player_1_yreal_loss: 0.0228\n",
      "Epoch 13/50\n",
      "3s - loss: 15.6402 - player_0_loss: 14.8199 - player_0_yfake_loss: 5.4555 - player_0_yreal_loss: 8.5820 - player_1_loss: 0.8203 - player_1_yfake_loss: 0.0136 - player_1_yreal_loss: 0.0243\n",
      "Epoch 14/50\n",
      "3s - loss: 15.2173 - player_0_loss: 14.4244 - player_0_yfake_loss: 5.7904 - player_0_yreal_loss: 7.8596 - player_1_loss: 0.7928 - player_1_yfake_loss: 0.0083 - player_1_yreal_loss: 0.0102\n",
      "Epoch 15/50\n",
      "3s - loss: 15.6962 - player_0_loss: 14.8854 - player_0_yfake_loss: 5.6032 - player_0_yreal_loss: 8.5068 - player_1_loss: 0.8108 - player_1_yfake_loss: 0.0143 - player_1_yreal_loss: 0.0210\n",
      "Epoch 16/50\n",
      "3s - loss: 17.3400 - player_0_loss: 16.5479 - player_0_yfake_loss: 5.6490 - player_0_yreal_loss: 10.1271 - player_1_loss: 0.7921 - player_1_yfake_loss: 0.0090 - player_1_yreal_loss: 0.0113\n",
      "Epoch 17/50\n",
      "3s - loss: 16.0506 - player_0_loss: 15.2627 - player_0_yfake_loss: 5.5472 - player_0_yreal_loss: 8.9577 - player_1_loss: 0.7879 - player_1_yfake_loss: 0.0125 - player_1_yreal_loss: 0.0176\n",
      "Epoch 18/50\n",
      "3s - loss: 16.0965 - player_0_loss: 15.3135 - player_0_yfake_loss: 5.1252 - player_0_yreal_loss: 9.4367 - player_1_loss: 0.7830 - player_1_yfake_loss: 0.0113 - player_1_yreal_loss: 0.0200\n",
      "Epoch 19/50\n",
      "3s - loss: 17.5738 - player_0_loss: 16.8109 - player_0_yfake_loss: 5.2756 - player_0_yreal_loss: 10.7909 - player_1_loss: 0.7629 - player_1_yfake_loss: 0.0080 - player_1_yreal_loss: 0.0105\n",
      "Epoch 20/50\n",
      "3s - loss: 17.8694 - player_0_loss: 17.1183 - player_0_yfake_loss: 5.1550 - player_0_yreal_loss: 11.2317 - player_1_loss: 0.7512 - player_1_yfake_loss: 0.0087 - player_1_yreal_loss: 0.0109\n",
      "Epoch 21/50\n",
      "3s - loss: 20.4558 - player_0_loss: 19.7065 - player_0_yfake_loss: 5.9883 - player_0_yreal_loss: 12.9944 - player_1_loss: 0.7492 - player_1_yfake_loss: 0.0086 - player_1_yreal_loss: 0.0168\n",
      "Epoch 22/50\n",
      "3s - loss: 20.0835 - player_0_loss: 19.3478 - player_0_yfake_loss: 5.8023 - player_0_yreal_loss: 12.8313 - player_1_loss: 0.7357 - player_1_yfake_loss: 0.0089 - player_1_yreal_loss: 0.0127\n",
      "Epoch 23/50\n",
      "3s - loss: 19.9220 - player_0_loss: 19.2075 - player_0_yfake_loss: 5.8268 - player_0_yreal_loss: 12.6786 - player_1_loss: 0.7145 - player_1_yfake_loss: 0.0054 - player_1_yreal_loss: 0.0069\n",
      "Epoch 24/50\n",
      "3s - loss: 17.8633 - player_0_loss: 17.1404 - player_0_yfake_loss: 5.0976 - player_0_yreal_loss: 11.3527 - player_1_loss: 0.7229 - player_1_yfake_loss: 0.0136 - player_1_yreal_loss: 0.0193\n",
      "Epoch 25/50\n",
      "3s - loss: 18.1081 - player_0_loss: 17.3783 - player_0_yfake_loss: 5.1204 - player_0_yreal_loss: 11.5636 - player_1_loss: 0.7299 - player_1_yfake_loss: 0.0162 - player_1_yreal_loss: 0.0193\n",
      "Epoch 26/50\n",
      "4s - loss: 18.9522 - player_0_loss: 18.2252 - player_0_yfake_loss: 5.3540 - player_0_yreal_loss: 12.1673 - player_1_loss: 0.7270 - player_1_yfake_loss: 0.0089 - player_1_yreal_loss: 0.0143\n",
      "Epoch 27/50\n",
      "3s - loss: 19.5385 - player_0_loss: 18.8156 - player_0_yfake_loss: 5.4386 - player_0_yreal_loss: 12.6773 - player_1_loss: 0.7229 - player_1_yfake_loss: 0.0097 - player_1_yreal_loss: 0.0134\n",
      "Epoch 28/50\n",
      "3s - loss: 20.4029 - player_0_loss: 19.6844 - player_0_yfake_loss: 5.7748 - player_0_yreal_loss: 13.2184 - player_1_loss: 0.7185 - player_1_yfake_loss: 0.0119 - player_1_yreal_loss: 0.0155\n",
      "Epoch 29/50\n",
      "3s - loss: 20.9317 - player_0_loss: 20.2402 - player_0_yfake_loss: 5.9439 - player_0_yreal_loss: 13.6164 - player_1_loss: 0.6915 - player_1_yfake_loss: 0.0053 - player_1_yreal_loss: 0.0063\n",
      "Epoch 30/50\n",
      "3s - loss: 19.5490 - player_0_loss: 18.8588 - player_0_yfake_loss: 5.3312 - player_0_yreal_loss: 12.8582 - player_1_loss: 0.6902 - player_1_yfake_loss: 0.0083 - player_1_yreal_loss: 0.0125\n",
      "Epoch 31/50\n",
      "3s - loss: 19.9856 - player_0_loss: 19.3019 - player_0_yfake_loss: 5.6765 - player_0_yreal_loss: 12.9560 - player_1_loss: 0.6837 - player_1_yfake_loss: 0.0060 - player_1_yreal_loss: 0.0083\n",
      "Epoch 32/50\n",
      "3s - loss: 20.3815 - player_0_loss: 19.6970 - player_0_yfake_loss: 5.8006 - player_0_yreal_loss: 13.2296 - player_1_loss: 0.6845 - player_1_yfake_loss: 0.0070 - player_1_yreal_loss: 0.0106\n",
      "Epoch 33/50\n",
      "3s - loss: 20.0486 - player_0_loss: 19.3688 - player_0_yfake_loss: 5.4679 - player_0_yreal_loss: 13.2397 - player_1_loss: 0.6798 - player_1_yfake_loss: 0.0085 - player_1_yreal_loss: 0.0103\n",
      "Epoch 34/50\n",
      "3s - loss: 20.8562 - player_0_loss: 20.1917 - player_0_yfake_loss: 5.9456 - player_0_yreal_loss: 13.5947 - player_1_loss: 0.6645 - player_1_yfake_loss: 0.0053 - player_1_yreal_loss: 0.0077\n",
      "Epoch 35/50\n",
      "3s - loss: 20.7399 - player_0_loss: 20.0908 - player_0_yfake_loss: 5.9779 - player_0_yreal_loss: 13.4747 - player_1_loss: 0.6492 - player_1_yfake_loss: 0.0049 - player_1_yreal_loss: 0.0061\n",
      "Epoch 36/50\n",
      "3s - loss: 19.1944 - player_0_loss: 18.5434 - player_0_yfake_loss: 5.4138 - player_0_yreal_loss: 12.4996 - player_1_loss: 0.6509 - player_1_yfake_loss: 0.0086 - player_1_yreal_loss: 0.0123\n",
      "Epoch 37/50\n",
      "3s - loss: 19.5631 - player_0_loss: 18.9093 - player_0_yfake_loss: 5.4441 - player_0_yreal_loss: 12.8326 - player_1_loss: 0.6538 - player_1_yfake_loss: 0.0084 - player_1_yreal_loss: 0.0127\n",
      "Epoch 38/50\n",
      "3s - loss: 21.7952 - player_0_loss: 21.1344 - player_0_yfake_loss: 6.5736 - player_0_yreal_loss: 13.9278 - player_1_loss: 0.6608 - player_1_yfake_loss: 0.0109 - player_1_yreal_loss: 0.0170\n",
      "Epoch 39/50\n",
      "3s - loss: 19.3483 - player_0_loss: 18.6499 - player_0_yfake_loss: 5.2485 - player_0_yreal_loss: 12.7690 - player_1_loss: 0.6984 - player_1_yfake_loss: 0.0230 - player_1_yreal_loss: 0.0430\n",
      "Epoch 40/50\n",
      "4s - loss: 19.4416 - player_0_loss: 18.7579 - player_0_yfake_loss: 5.0980 - player_0_yreal_loss: 13.0210 - player_1_loss: 0.6838 - player_1_yfake_loss: 0.0158 - player_1_yreal_loss: 0.0291\n",
      "Epoch 41/50\n",
      "3s - loss: 19.5485 - player_0_loss: 18.8820 - player_0_yfake_loss: 5.1569 - player_0_yreal_loss: 13.0932 - player_1_loss: 0.6665 - player_1_yfake_loss: 0.0126 - player_1_yreal_loss: 0.0221\n",
      "Epoch 42/50\n"
     ]
    },
    {
     "name": "stdout",
     "output_type": "stream",
     "text": [
      "3s - loss: 19.7130 - player_0_loss: 19.0557 - player_0_yfake_loss: 5.2791 - player_0_yreal_loss: 13.1487 - player_1_loss: 0.6573 - player_1_yfake_loss: 0.0112 - player_1_yreal_loss: 0.0182\n",
      "Epoch 43/50\n",
      "3s - loss: 20.5104 - player_0_loss: 19.8519 - player_0_yfake_loss: 5.5954 - player_0_yreal_loss: 13.6344 - player_1_loss: 0.6586 - player_1_yfake_loss: 0.0140 - player_1_yreal_loss: 0.0225\n",
      "Epoch 44/50\n",
      "3s - loss: 19.0085 - player_0_loss: 18.3316 - player_0_yfake_loss: 4.7634 - player_0_yreal_loss: 12.9513 - player_1_loss: 0.6769 - player_1_yfake_loss: 0.0211 - player_1_yreal_loss: 0.0390\n",
      "Epoch 45/50\n",
      "3s - loss: 21.6545 - player_0_loss: 20.9651 - player_0_yfake_loss: 6.7422 - player_0_yreal_loss: 13.5668 - player_1_loss: 0.6895 - player_1_yfake_loss: 0.0106 - player_1_yreal_loss: 0.0228\n",
      "Epoch 46/50\n",
      "3s - loss: 20.8353 - player_0_loss: 20.1551 - player_0_yfake_loss: 6.0478 - player_0_yreal_loss: 13.4383 - player_1_loss: 0.6802 - player_1_yfake_loss: 0.0044 - player_1_yreal_loss: 0.0069\n",
      "Epoch 47/50\n",
      "3s - loss: 19.5636 - player_0_loss: 18.8835 - player_0_yfake_loss: 5.4451 - player_0_yreal_loss: 12.7777 - player_1_loss: 0.6801 - player_1_yfake_loss: 0.0085 - player_1_yreal_loss: 0.0109\n",
      "Epoch 48/50\n",
      "3s - loss: 18.8239 - player_0_loss: 18.1233 - player_0_yfake_loss: 4.9420 - player_0_yreal_loss: 12.5232 - player_1_loss: 0.7006 - player_1_yfake_loss: 0.0152 - player_1_yreal_loss: 0.0274\n",
      "Epoch 49/50\n",
      "3s - loss: 18.9860 - player_0_loss: 18.3016 - player_0_yfake_loss: 4.9934 - player_0_yreal_loss: 12.6550 - player_1_loss: 0.6844 - player_1_yfake_loss: 0.0130 - player_1_yreal_loss: 0.0182\n",
      "Epoch 50/50\n",
      "4s - loss: 20.7619 - player_0_loss: 20.0784 - player_0_yfake_loss: 6.8429 - player_0_yreal_loss: 12.5915 - player_1_loss: 0.6835 - player_1_yfake_loss: 0.0170 - player_1_yreal_loss: 0.0225\n"
     ]
    }
   ],
   "source": [
    "# It is a Keras-2 rename. Fixed in master now. This is the block that makes it work in keras-2.\n",
    "model._feed_output_shapes = model.internal_output_shapes\n",
    "model._feed_loss_fns = model.loss_functions\n",
    "model._feed_input_names = model.input_names\n",
    "model._feed_input_shapes = model.internal_input_shapes\n",
    "model._feed_outputs = model.outputs\n",
    "model._feed_output_names = model.output_names\n",
    "model._feed_sample_weights =model.sample_weights\n",
    "model._feed_sample_weight_modes = model.sample_weight_modes\n",
    "history = model.fit(x=train_x_1, y=gan_targets(train_x_1.shape[0]), epochs=50, batch_size=batch_size, verbose=2)"
   ]
  },
  {
   "cell_type": "code",
   "execution_count": 30,
   "metadata": {},
   "outputs": [
    {
     "data": {
      "text/plain": [
       "[<matplotlib.lines.Line2D at 0x1a2cca68d0>]"
      ]
     },
     "execution_count": 30,
     "metadata": {},
     "output_type": "execute_result"
    },
    {
     "data": {
      "image/png": "[encoded data removed]",
      "text/plain": [
       "<matplotlib.figure.Figure at 0x1a2c77c358>"
      ]
     },
     "metadata": {},
     "output_type": "display_data"
    }
   ],
   "source": [
    "plt.plot(history.history['player_0_loss'])\n",
    "plt.plot(history.history['player_1_loss'])\n",
    "plt.plot(history.history['loss'])"
   ]
  },
  {
   "cell_type": "code",
   "execution_count": 36,
   "metadata": {},
   "outputs": [
    {
     "data": {
      "image/png": "[encoded data removed]",
      "text/plain": [
       "<matplotlib.figure.Figure at 0x1a307bbbe0>"
      ]
     },
     "metadata": {},
     "output_type": "display_data"
    },
    {
     "data": {
      "image/png": "[encoded data removed]",
      "text/plain": [
       "<matplotlib.figure.Figure at 0x1a306565f8>"
      ]
     },
     "metadata": {},
     "output_type": "display_data"
    },
    {
     "data": {
      "image/png": "[encoded data removed]",
      "text/plain": [
       "<matplotlib.figure.Figure at 0x1a3065e4e0>"
      ]
     },
     "metadata": {},
     "output_type": "display_data"
    },
    {
     "data": {
      "image/png": "[encoded data removed]",
      "text/plain": [
       "<matplotlib.figure.Figure at 0x1a2ccc4828>"
      ]
     },
     "metadata": {},
     "output_type": "display_data"
    },
    {
     "data": {
      "image/png": "[encoded data removed]",
      "text/plain": [
       "<matplotlib.figure.Figure at 0x1a303279e8>"
      ]
     },
     "metadata": {},
     "output_type": "display_data"
    },
    {
     "data": {
      "image/png": "[encoded data removed]",
      "text/plain": [
       "<matplotlib.figure.Figure at 0x1a2af1a8d0>"
      ]
     },
     "metadata": {},
     "output_type": "display_data"
    },
    {
     "data": {
      "image/png": "[encoded data removed]",
      "text/plain": [
       "<matplotlib.figure.Figure at 0x1a2c77c160>"
      ]
     },
     "metadata": {},
     "output_type": "display_data"
    },
    {
     "data": {
      "image/png": "[encoded data removed]",
      "text/plain": [
       "<matplotlib.figure.Figure at 0x1a2d046cc0>"
      ]
     },
     "metadata": {},
     "output_type": "display_data"
    },
    {
     "data": {
      "image/png": "[encoded data removed]",
      "text/plain": [
       "<matplotlib.figure.Figure at 0x1a2b338320>"
      ]
     },
     "metadata": {},
     "output_type": "display_data"
    },
    {
     "data": {
      "image/png": "[encoded data removed]",
      "text/plain": [
       "<matplotlib.figure.Figure at 0x1a3030a7b8>"
      ]
     },
     "metadata": {},
     "output_type": "display_data"
    }
   ],
   "source": [
    "zsamples = np.random.normal(size=(10, 100))\n",
    "pred = model_1.predict(zsamples)\n",
    "for i in range(pred.shape[0]):\n",
    "    plt.figure(figsize=(2,2))\n",
    "    plt.imshow(pred[i, :], cmap='gray')\n",
    "    plt.show()"
   ]
  }
 ],
 "metadata": {
  "kernelspec": {
   "display_name": "Python 3",
   "language": "python",
   "name": "python3"
  },
  "language_info": {
   "codemirror_mode": {
    "name": "ipython",
    "version": 3
   },
   "file_extension": ".py",
   "mimetype": "text/x-python",
   "name": "python",
   "nbconvert_exporter": "python",
   "pygments_lexer": "ipython3",
   "version": "3.6.3"
  }
 },
 "nbformat": 4,
 "nbformat_minor": 2
}
