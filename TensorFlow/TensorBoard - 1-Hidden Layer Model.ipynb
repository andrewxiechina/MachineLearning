{
 "cells": [
  {
   "cell_type": "code",
   "execution_count": 1,
   "metadata": {},
   "outputs": [
    {
     "name": "stderr",
     "output_type": "stream",
     "text": [
      "/Users/andyxie/anaconda3/lib/python3.6/importlib/_bootstrap.py:219: RuntimeWarning: compiletime version 3.5 of module 'tensorflow.python.framework.fast_tensor_util' does not match runtime version 3.6\n",
      "  return f(*args, **kwds)\n"
     ]
    }
   ],
   "source": [
    "import tensorflow as tf\n",
    "import numpy as np\n",
    "import matplotlib.pylab as plt\n",
    "%matplotlib inline"
   ]
  },
  {
   "cell_type": "markdown",
   "metadata": {},
   "source": [
    "# DUMMY DATA"
   ]
  },
  {
   "cell_type": "code",
   "execution_count": 2,
   "metadata": {},
   "outputs": [
    {
     "data": {
      "text/plain": [
       "((300, 1), (300, 1))"
      ]
     },
     "execution_count": 2,
     "metadata": {},
     "output_type": "execute_result"
    }
   ],
   "source": [
    "X = np.linspace(-1,1,300).reshape((-1,1)).astype(np.float32) # 300 numbers between -1 ~ 1b\n",
    "noise = np.random.normal(0, 0.05, X.shape)\n",
    "y = np.square(X) - 0.5\n",
    "X.shape, y.shape"
   ]
  },
  {
   "cell_type": "code",
   "execution_count": 3,
   "metadata": {
    "collapsed": true
   },
   "outputs": [],
   "source": [
    "y = np.square(X)"
   ]
  },
  {
   "cell_type": "code",
   "execution_count": 4,
   "metadata": {},
   "outputs": [
    {
     "data": {
      "text/plain": [
       "[<matplotlib.lines.Line2D at 0x181ee80358>]"
      ]
     },
     "execution_count": 4,
     "metadata": {},
     "output_type": "execute_result"
    },
    {
     "data": {
      "image/png": "[encoded data removed]",
      "text/plain": [
       "<matplotlib.figure.Figure at 0x181ee77d30>"
      ]
     },
     "metadata": {},
     "output_type": "display_data"
    }
   ],
   "source": [
    "fig = plt.figure()\n",
    "ax = fig.add_subplot(1,1,1)\n",
    "ax.plot(X, y)"
   ]
  },
  {
   "cell_type": "markdown",
   "metadata": {},
   "source": [
    "# MODEL"
   ]
  },
  {
   "cell_type": "code",
   "execution_count": 5,
   "metadata": {
    "collapsed": true
   },
   "outputs": [],
   "source": [
    "def add_layer(X, in_size, out_size, activation_function=None):  \n",
    "    with tf.name_scope(\"Layer\"):\n",
    "        with tf.name_scope(\"W\"):\n",
    "            W = tf.Variable(tf.random_normal([in_size, out_size]), name=\"w\") \n",
    "        with tf.name_scope(\"b\"):\n",
    "            b = tf.Variable(tf.zeros([1,out_size]) + 0.1, name=\"b\")\n",
    "        with tf.name_scope(\"MatMul\"):\n",
    "            y = tf.matmul(X,W) + b\n",
    "        if activation_function is None:\n",
    "            return y\n",
    "        else:\n",
    "            return activation_function(y)"
   ]
  },
  {
   "cell_type": "code",
   "execution_count": 6,
   "metadata": {
    "collapsed": true
   },
   "outputs": [],
   "source": [
    "with tf.name_scope(\"Inputs\"):\n",
    "    ys = tf.placeholder(tf.float32,[None, 1], name = \"Input_X\")\n",
    "    xs = tf.placeholder(tf.float32, [None, 1], name = \"Input_Y\")\n",
    "\n",
    "l_1 = add_layer(xs, 1, 10, activation_function=tf.nn.relu)\n",
    "ys_ = add_layer(l_1, 10, 1)\n",
    "\n",
    "with tf.name_scope(\"Loss\"):\n",
    "    loss = tf.reduce_mean(\n",
    "        tf.reduce_sum(tf.square(ys - ys_), reduction_indices=[1]))\n",
    "    \n",
    "with tf.name_scope(\"GD\"):\n",
    "    step = tf.train.GradientDescentOptimizer(0.1).minimize(loss)\n",
    "    \n"
   ]
  },
  {
   "cell_type": "markdown",
   "metadata": {},
   "source": [
    "# Session"
   ]
  },
  {
   "cell_type": "code",
   "execution_count": 7,
   "metadata": {
    "scrolled": true
   },
   "outputs": [
    {
     "name": "stdout",
     "output_type": "stream",
     "text": [
      "0.0236886\n",
      "0.00649013\n",
      "0.00517757\n",
      "0.00446294\n",
      "0.00397676\n",
      "0.00362153\n",
      "0.00335262\n",
      "0.00313462\n",
      "0.00295471\n",
      "0.00279645\n",
      "0.00265429\n",
      "0.00252242\n",
      "0.00239836\n",
      "0.00228064\n",
      "0.00216607\n",
      "0.00205725\n",
      "0.00195529\n",
      "0.00185915\n",
      "0.00176943\n",
      "0.00168716\n"
     ]
    }
   ],
   "source": [
    "N_STEP = 1000\n",
    "y_predictions = []\n",
    "\n",
    "with tf.Session() as sess:\n",
    "    init = tf.global_variables_initializer()\n",
    "    sess.run(init)\n",
    "    for i in range(N_STEP):\n",
    "        sess.run(step, feed_dict={xs: X, ys: y})\n",
    "        if i%50 == 0:\n",
    "            loss_current = sess.run(loss, feed_dict={xs: X, ys: y})\n",
    "            print(loss_current)\n",
    "        if i%50 ==0:\n",
    "            y_prediction = sess.run(ys_, feed_dict={xs:X})\n",
    "            y_predictions.append(y_prediction)\n",
    "    writer = tf.summary.FileWriter(\"logs/\", sess.graph)\n",
    "y_predictions = np.array(y_predictions)    "
   ]
  },
  {
   "cell_type": "markdown",
   "metadata": {},
   "source": [
    "# TensorBoard\n",
    "Use:\n",
    "tensorboard --logdir='logs/'\n",
    "\n",
    "![tensorboard](../img/tensorboard.png)"
   ]
  }
 ],
 "metadata": {
  "kernelspec": {
   "display_name": "Python 3",
   "language": "python",
   "name": "python3"
  },
  "language_info": {
   "codemirror_mode": {
    "name": "ipython",
    "version": 3
   },
   "file_extension": ".py",
   "mimetype": "text/x-python",
   "name": "python",
   "nbconvert_exporter": "python",
   "pygments_lexer": "ipython3",
   "version": "3.6.3"
  }
 },
 "nbformat": 4,
 "nbformat_minor": 2
}
