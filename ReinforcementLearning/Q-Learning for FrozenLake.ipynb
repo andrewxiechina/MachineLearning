{
 "cells": [
  {
   "cell_type": "markdown",
   "metadata": {},
   "source": [
    "# Notes"
   ]
  },
  {
   "cell_type": "markdown",
   "metadata": {},
   "source": [
    "It terns out, the design of decay pattern of espilon plays a key role here in the algorithm, under certain decay pattern, it is simply impossible to converge. The following pattern seems to have a good performance:\n",
    "   \n",
    "   action = np.argmax(Q[s,:] + np.random.randn(1,env.action_space.n)/(i/4+1)**2)"
   ]
  },
  {
   "cell_type": "code",
   "execution_count": 1,
   "metadata": {
    "collapsed": true
   },
   "outputs": [],
   "source": [
    "import gym\n",
    "import numpy as np"
   ]
  },
  {
   "cell_type": "markdown",
   "metadata": {},
   "source": [
    "# Game"
   ]
  },
  {
   "cell_type": "code",
   "execution_count": 2,
   "metadata": {},
   "outputs": [
    {
     "name": "stderr",
     "output_type": "stream",
     "text": [
      "[2017-11-16 02:51:14,385] Making new env: FrozenLake-v0\n"
     ]
    }
   ],
   "source": [
    "env = gym.make(\"FrozenLake-v0\")"
   ]
  },
  {
   "cell_type": "markdown",
   "metadata": {},
   "source": [
    "# Model"
   ]
  },
  {
   "cell_type": "markdown",
   "metadata": {},
   "source": [
    "### Constants"
   ]
  },
  {
   "cell_type": "code",
   "execution_count": 3,
   "metadata": {},
   "outputs": [],
   "source": [
    "ACTIONS = [] # Action space\n",
    "STATES = [] # State space\n",
    "N_ACTIONS = env.action_space.n\n",
    "N_STATES = env.observation_space.n\n",
    "epsilon = 0.9 # Expoit v.s. Explore, this number will be updated later as the learning progress\n",
    "gamma = 0.95 # Decay, same as discount for time value of money\n",
    "LR = 0.8 # Learning Rate\n",
    "N_GAMES = 5000 #Training length\n",
    "N_STEPS = 99 # How many updates each game have"
   ]
  },
  {
   "cell_type": "markdown",
   "metadata": {},
   "source": [
    "### Q Table"
   ]
  },
  {
   "cell_type": "code",
   "execution_count": 4,
   "metadata": {
    "collapsed": true
   },
   "outputs": [],
   "source": [
    "Q = np.zeros((N_STATES, N_ACTIONS))"
   ]
  },
  {
   "cell_type": "markdown",
   "metadata": {},
   "source": [
    "### Act"
   ]
  },
  {
   "cell_type": "code",
   "execution_count": 5,
   "metadata": {
    "collapsed": true
   },
   "outputs": [],
   "source": [
    "def act(s,i=0):\n",
    "    action = np.argmax(Q[s,:] + np.random.randn(1,env.action_space.n)/(i/4+1)**2)\n",
    "    return action"
   ]
  },
  {
   "cell_type": "markdown",
   "metadata": {},
   "source": [
    "### Learn"
   ]
  },
  {
   "cell_type": "code",
   "execution_count": 6,
   "metadata": {},
   "outputs": [],
   "source": [
    "def learn(s, a, r, s_, done):\n",
    "    r_p = Q[s, a] # Predicted reward\n",
    "    if not done:\n",
    "        r_t = r + gamma*np.max(Q[s_,:]) # Target reward\n",
    "    else:\n",
    "        r_t = r\n",
    "    Q[s,a] +=  LR* (r_t - r_p)  \n",
    "    return Q"
   ]
  },
  {
   "cell_type": "markdown",
   "metadata": {},
   "source": [
    "# Session"
   ]
  },
  {
   "cell_type": "code",
   "execution_count": 7,
   "metadata": {},
   "outputs": [],
   "source": [
    "for i in range(N_GAMES):\n",
    "    s = env.reset()\n",
    "    for j in range(N_STEPS):\n",
    "        #env.render() \n",
    "        a = act(s,i)\n",
    "        s_, r, done, _ = env.step(a)\n",
    "        _ = learn(s, a, r, s_, done)\n",
    "        s = s_\n",
    "        if done:\n",
    "            break\n",
    "    "
   ]
  },
  {
   "cell_type": "code",
   "execution_count": 8,
   "metadata": {},
   "outputs": [
    {
     "data": {
      "text/plain": [
       "array([[  3.37397301e-04,   3.95250602e-04,   1.71713222e-01,\n",
       "          5.46205499e-04],\n",
       "       [  5.27265992e-05,   2.24551222e-05,   2.56141987e-05,\n",
       "          7.53492018e-02],\n",
       "       [  2.04633802e-04,   2.38871299e-02,   0.00000000e+00,\n",
       "          0.00000000e+00],\n",
       "       [  0.00000000e+00,   8.09436356e-05,   0.00000000e+00,\n",
       "          6.04084637e-02],\n",
       "       [  2.06026357e-01,   0.00000000e+00,   0.00000000e+00,\n",
       "          1.80199681e-04],\n",
       "       [  0.00000000e+00,   0.00000000e+00,   0.00000000e+00,\n",
       "          0.00000000e+00],\n",
       "       [  1.17013525e-01,   1.30814550e-06,   1.36701983e-06,\n",
       "          4.49315135e-07],\n",
       "       [  0.00000000e+00,   0.00000000e+00,   0.00000000e+00,\n",
       "          0.00000000e+00],\n",
       "       [  1.72551089e-04,   4.21001495e-05,   0.00000000e+00,\n",
       "          1.96750512e-01],\n",
       "       [  4.03206639e-05,   2.60462228e-01,   5.52765010e-05,\n",
       "          0.00000000e+00],\n",
       "       [  1.37429973e-01,   1.26029826e-04,   0.00000000e+00,\n",
       "          0.00000000e+00],\n",
       "       [  0.00000000e+00,   0.00000000e+00,   0.00000000e+00,\n",
       "          0.00000000e+00],\n",
       "       [  0.00000000e+00,   0.00000000e+00,   0.00000000e+00,\n",
       "          0.00000000e+00],\n",
       "       [  3.41843096e-05,   4.25916537e-05,   2.51839268e-01,\n",
       "          1.27970815e-05],\n",
       "       [  0.00000000e+00,   0.00000000e+00,   8.27088044e-01,\n",
       "          0.00000000e+00],\n",
       "       [  0.00000000e+00,   0.00000000e+00,   0.00000000e+00,\n",
       "          0.00000000e+00]])"
      ]
     },
     "execution_count": 8,
     "metadata": {},
     "output_type": "execute_result"
    }
   ],
   "source": [
    "Q"
   ]
  },
  {
   "cell_type": "markdown",
   "metadata": {},
   "source": [
    "# Valuation"
   ]
  },
  {
   "cell_type": "code",
   "execution_count": 9,
   "metadata": {},
   "outputs": [
    {
     "data": {
      "text/plain": [
       "0.45000000000000001"
      ]
     },
     "execution_count": 9,
     "metadata": {},
     "output_type": "execute_result"
    }
   ],
   "source": [
    "rewards = []\n",
    "for i in range(100):\n",
    "    s = env.reset()    \n",
    "    for j in range(N_STEPS):\n",
    "        \n",
    "        a  = np.argmax(Q[s])\n",
    "        s_, r, done, _ = env.step(a)\n",
    "        #env.render()\n",
    "        s = s_\n",
    "        if done:         \n",
    "            break\n",
    "    rewards.append(r)\n",
    "np.mean(rewards)"
   ]
  },
  {
   "cell_type": "code",
   "execution_count": 10,
   "metadata": {},
   "outputs": [
    {
     "data": {
      "text/plain": [
       "0.45000000000000001"
      ]
     },
     "execution_count": 10,
     "metadata": {},
     "output_type": "execute_result"
    }
   ],
   "source": [
    "np.mean(rewards)"
   ]
  }
 ],
 "metadata": {
  "kernelspec": {
   "display_name": "Python 3",
   "language": "python",
   "name": "python3"
  },
  "language_info": {
   "codemirror_mode": {
    "name": "ipython",
    "version": 3
   },
   "file_extension": ".py",
   "mimetype": "text/x-python",
   "name": "python",
   "nbconvert_exporter": "python",
   "pygments_lexer": "ipython3",
   "version": "3.6.3"
  }
 },
 "nbformat": 4,
 "nbformat_minor": 2
}
