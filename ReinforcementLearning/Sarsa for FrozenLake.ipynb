{
 "cells": [
  {
   "cell_type": "markdown",
   "metadata": {},
   "source": [
    "# Notes"
   ]
  },
  {
   "cell_type": "markdown",
   "metadata": {},
   "source": [
    "It terns out, the design of decay pattern of espilon plays a key role here in the algorithm, under certain decay pattern, it is simply impossible to converge. The following pattern seems to have a good performance:\n",
    "   \n",
    "   action = np.argmax(Q[s,:] + np.random.randn(1,env.action_space.n)/(i/4+1)**2)"
   ]
  },
  {
   "cell_type": "code",
   "execution_count": 2,
   "metadata": {
    "collapsed": true
   },
   "outputs": [],
   "source": [
    "import gym\n",
    "import numpy as np"
   ]
  },
  {
   "cell_type": "markdown",
   "metadata": {},
   "source": [
    "# Game"
   ]
  },
  {
   "cell_type": "code",
   "execution_count": 3,
   "metadata": {},
   "outputs": [
    {
     "name": "stderr",
     "output_type": "stream",
     "text": [
      "[2017-11-16 03:01:18,270] Making new env: FrozenLake-v0\n"
     ]
    }
   ],
   "source": [
    "env = gym.make(\"FrozenLake-v0\")"
   ]
  },
  {
   "cell_type": "markdown",
   "metadata": {},
   "source": [
    "# Model"
   ]
  },
  {
   "cell_type": "markdown",
   "metadata": {},
   "source": [
    "### Constants"
   ]
  },
  {
   "cell_type": "code",
   "execution_count": 4,
   "metadata": {},
   "outputs": [],
   "source": [
    "ACTIONS = [] # Action space\n",
    "STATES = [] # State space\n",
    "N_ACTIONS = env.action_space.n\n",
    "N_STATES = env.observation_space.n\n",
    "epsilon = 0.9 # Expoit v.s. Explore, this number will be updated later as the learning progress\n",
    "gamma = 0.95 # Decay, same as discount for time value of money\n",
    "LR = 0.8 # Learning Rate\n",
    "N_GAMES = 5000 #Training length\n",
    "N_STEPS = 99 # How many updates each game have"
   ]
  },
  {
   "cell_type": "markdown",
   "metadata": {},
   "source": [
    "### Q Table"
   ]
  },
  {
   "cell_type": "code",
   "execution_count": 38,
   "metadata": {
    "collapsed": true
   },
   "outputs": [],
   "source": [
    "Q = np.zeros((N_STATES, N_ACTIONS))"
   ]
  },
  {
   "cell_type": "markdown",
   "metadata": {},
   "source": [
    "### Act"
   ]
  },
  {
   "cell_type": "code",
   "execution_count": 39,
   "metadata": {
    "collapsed": true
   },
   "outputs": [],
   "source": [
    "def act(s,i=0):\n",
    "    action = np.argmax(Q[s,:] + np.random.randn(1,env.action_space.n)/(i/3+1))\n",
    "    return action"
   ]
  },
  {
   "cell_type": "markdown",
   "metadata": {},
   "source": [
    "### Learn"
   ]
  },
  {
   "cell_type": "code",
   "execution_count": 40,
   "metadata": {
    "collapsed": true
   },
   "outputs": [],
   "source": [
    "def learn(s, a, r, s_, a_, done):\n",
    "    r_p = Q[s, a] # Predicted reward\n",
    "    if not done:\n",
    "        r_ = Q[s_, a_]\n",
    "        r_t = r + gamma*r_ # Target reward\n",
    "    else:\n",
    "        r_t = r\n",
    "    Q[s,a] +=  LR* (r_t - r_p)  \n",
    "    return Q"
   ]
  },
  {
   "cell_type": "markdown",
   "metadata": {},
   "source": [
    "# Session"
   ]
  },
  {
   "cell_type": "code",
   "execution_count": 41,
   "metadata": {},
   "outputs": [],
   "source": [
    "for i in range(N_GAMES):\n",
    "    s = env.reset()\n",
    "    a = act(s,i)\n",
    "    for j in range(N_STEPS):\n",
    "        #env.render()       \n",
    "        s_, r, done, _ = env.step(a)       \n",
    "        a_ = act(s_, i)\n",
    "        _ = learn(s, a, r, s_, a_, done)\n",
    "        s = s_\n",
    "        a = a_\n",
    "        if done:\n",
    "            break\n",
    "    "
   ]
  },
  {
   "cell_type": "code",
   "execution_count": 42,
   "metadata": {},
   "outputs": [
    {
     "data": {
      "text/plain": [
       "array([[  2.58500944e-01,   6.79566364e-03,   1.00048356e-02,\n",
       "          4.61087257e-03],\n",
       "       [  7.84973506e-04,   2.16669937e-03,   4.81285543e-03,\n",
       "          3.66677505e-01],\n",
       "       [  5.18138919e-03,   1.47399890e-01,   8.42672007e-04,\n",
       "          1.40157339e-03],\n",
       "       [  6.46089183e-03,   1.62674186e-03,   5.26756933e-07,\n",
       "          9.75256392e-02],\n",
       "       [  3.50076117e-01,   1.58542287e-03,   4.00213625e-03,\n",
       "          8.84298726e-04],\n",
       "       [  0.00000000e+00,   0.00000000e+00,   0.00000000e+00,\n",
       "          0.00000000e+00],\n",
       "       [  3.54162308e-02,   7.84690932e-06,   1.95006165e-04,\n",
       "          5.41946864e-07],\n",
       "       [  0.00000000e+00,   0.00000000e+00,   0.00000000e+00,\n",
       "          0.00000000e+00],\n",
       "       [  0.00000000e+00,   3.32948756e-03,   2.79402632e-03,\n",
       "          4.09971897e-01],\n",
       "       [  0.00000000e+00,   6.20525298e-01,   0.00000000e+00,\n",
       "          4.14782581e-03],\n",
       "       [  2.74863542e-01,   1.32506848e-04,   1.24517030e-03,\n",
       "          4.06116738e-04],\n",
       "       [  0.00000000e+00,   0.00000000e+00,   0.00000000e+00,\n",
       "          0.00000000e+00],\n",
       "       [  0.00000000e+00,   0.00000000e+00,   0.00000000e+00,\n",
       "          0.00000000e+00],\n",
       "       [  0.00000000e+00,   0.00000000e+00,   6.45232739e-01,\n",
       "          2.43200000e-02],\n",
       "       [  0.00000000e+00,   9.74209609e-01,   0.00000000e+00,\n",
       "          0.00000000e+00],\n",
       "       [  0.00000000e+00,   0.00000000e+00,   0.00000000e+00,\n",
       "          0.00000000e+00]])"
      ]
     },
     "execution_count": 42,
     "metadata": {},
     "output_type": "execute_result"
    }
   ],
   "source": [
    "Q"
   ]
  },
  {
   "cell_type": "markdown",
   "metadata": {},
   "source": [
    "# Valuation"
   ]
  },
  {
   "cell_type": "code",
   "execution_count": 55,
   "metadata": {},
   "outputs": [
    {
     "data": {
      "text/plain": [
       "0.69999999999999996"
      ]
     },
     "execution_count": 55,
     "metadata": {},
     "output_type": "execute_result"
    }
   ],
   "source": [
    "rewards = []\n",
    "for i in range(100):\n",
    "    s = env.reset()    \n",
    "    for j in range(N_STEPS):\n",
    "        \n",
    "        a  = np.argmax(Q[s])\n",
    "        s_, r, done, _ = env.step(a)\n",
    "        #env.render()\n",
    "        s = s_\n",
    "        if done:         \n",
    "            break\n",
    "    rewards.append(r)\n",
    "np.mean(rewards)"
   ]
  }
 ],
 "metadata": {
  "kernelspec": {
   "display_name": "Python 3",
   "language": "python",
   "name": "python3"
  },
  "language_info": {
   "codemirror_mode": {
    "name": "ipython",
    "version": 3
   },
   "file_extension": ".py",
   "mimetype": "text/x-python",
   "name": "python",
   "nbconvert_exporter": "python",
   "pygments_lexer": "ipython3",
   "version": "3.6.3"
  }
 },
 "nbformat": 4,
 "nbformat_minor": 2
}
