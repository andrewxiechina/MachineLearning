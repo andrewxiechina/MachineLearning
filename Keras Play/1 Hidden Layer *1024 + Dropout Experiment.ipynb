{
 "cells": [
  {
   "cell_type": "markdown",
   "metadata": {},
   "source": [
    "# Notes\n",
    "This exercise experiments on 1 hidden layer (size = 1024).\n",
    "We frist set training data to 1/20 of its original size and overfit it.\n",
    "Then add drop out to test the effect.\n",
    "\n",
    "**Senario without dropout**\n",
    "- validation: 0.8617\n",
    "- test: 0.8483\n",
    "\n",
    "** With dropout**\n",
    "- validation: 0.8614\n",
    "- test: 0.8451\n",
    "\n",
    "Nothing changed as result."
   ]
  },
  {
   "cell_type": "code",
   "execution_count": 19,
   "metadata": {},
   "outputs": [],
   "source": [
    "from keras.models import Sequential\n",
    "from keras.layers import Dense, Activation, Input, Flatten, Reshape, Dropout\n",
    "from keras.callbacks import EarlyStopping\n",
    "from keras.regularizers import l2\n",
    "import numpy as np"
   ]
  },
  {
   "cell_type": "code",
   "execution_count": 20,
   "metadata": {},
   "outputs": [
    {
     "name": "stdout",
     "output_type": "stream",
     "text": [
      "_________________________________________________________________\n",
      "Layer (type)                 Output Shape              Param #   \n",
      "=================================================================\n",
      "reshape_3 (Reshape)          (None, 784)               0         \n",
      "_________________________________________________________________\n",
      "dense_4 (Dense)              (None, 1024)              803840    \n",
      "_________________________________________________________________\n",
      "activation_4 (Activation)    (None, 1024)              0         \n",
      "_________________________________________________________________\n",
      "dropout_1 (Dropout)          (None, 1024)              0         \n",
      "_________________________________________________________________\n",
      "dense_5 (Dense)              (None, 10)                10250     \n",
      "_________________________________________________________________\n",
      "activation_5 (Activation)    (None, 10)                0         \n",
      "=================================================================\n",
      "Total params: 814,090\n",
      "Trainable params: 814,090\n",
      "Non-trainable params: 0\n",
      "_________________________________________________________________\n"
     ]
    }
   ],
   "source": [
    "model = Sequential()\n",
    "\n",
    "model.add(Reshape((28*28,), input_shape=(28,28) ))\n",
    "model.add(Dense(\n",
    "    units=1024,\n",
    "))\n",
    "model.add(Activation(\"relu\"))\n",
    "model.add(Dropout(0.2))\n",
    "model.add(Dense(units=10))\n",
    "model.add(Activation(\"softmax\"))\n",
    "\n",
    "model.summary()"
   ]
  },
  {
   "cell_type": "code",
   "execution_count": 21,
   "metadata": {
    "collapsed": true
   },
   "outputs": [],
   "source": [
    "model.compile(\n",
    "    loss='categorical_crossentropy',\n",
    "    optimizer='sgd',\n",
    "    metrics=['accuracy']\n",
    ")"
   ]
  },
  {
   "cell_type": "code",
   "execution_count": 22,
   "metadata": {},
   "outputs": [],
   "source": [
    "X_train, y_train, X_validate, y_validate, X_test, y_test = np.load(\"/Users/andyxie/workspace/input/data_all_flat.npy\")"
   ]
  },
  {
   "cell_type": "code",
   "execution_count": 23,
   "metadata": {},
   "outputs": [],
   "source": [
    "X_train = X_train[:500]\n",
    "y_train = y_train[:500]"
   ]
  },
  {
   "cell_type": "code",
   "execution_count": 26,
   "metadata": {},
   "outputs": [
    {
     "name": "stdout",
     "output_type": "stream",
     "text": [
      "Train on 500 samples, validate on 5561 samples\n",
      "Epoch 1/100\n",
      "500/500 [==============================] - 0s - loss: 0.2116 - acc: 0.9720 - val_loss: 0.5267 - val_acc: 0.8549\n",
      "Epoch 2/100\n",
      "500/500 [==============================] - 0s - loss: 0.2182 - acc: 0.9680 - val_loss: 0.5265 - val_acc: 0.8552\n",
      "Epoch 3/100\n",
      "500/500 [==============================] - 0s - loss: 0.2135 - acc: 0.9600 - val_loss: 0.5253 - val_acc: 0.8549\n",
      "Epoch 4/100\n",
      "500/500 [==============================] - 0s - loss: 0.2134 - acc: 0.9660 - val_loss: 0.5240 - val_acc: 0.8547\n",
      "Epoch 5/100\n",
      "500/500 [==============================] - 0s - loss: 0.2112 - acc: 0.9760 - val_loss: 0.5224 - val_acc: 0.8556\n",
      "Epoch 6/100\n",
      "500/500 [==============================] - 0s - loss: 0.2009 - acc: 0.9680 - val_loss: 0.5216 - val_acc: 0.8549\n",
      "Epoch 7/100\n",
      "500/500 [==============================] - 0s - loss: 0.1882 - acc: 0.9740 - val_loss: 0.5205 - val_acc: 0.8563\n",
      "Epoch 8/100\n",
      "500/500 [==============================] - 0s - loss: 0.1850 - acc: 0.9760 - val_loss: 0.5198 - val_acc: 0.8560\n",
      "Epoch 9/100\n",
      "500/500 [==============================] - 0s - loss: 0.1810 - acc: 0.9720 - val_loss: 0.5191 - val_acc: 0.8563\n",
      "Epoch 10/100\n",
      "500/500 [==============================] - 0s - loss: 0.1855 - acc: 0.9740 - val_loss: 0.5183 - val_acc: 0.8572\n",
      "Epoch 11/100\n",
      "500/500 [==============================] - 0s - loss: 0.1782 - acc: 0.9780 - val_loss: 0.5176 - val_acc: 0.8570\n",
      "Epoch 12/100\n",
      "500/500 [==============================] - 0s - loss: 0.1753 - acc: 0.9780 - val_loss: 0.5173 - val_acc: 0.8565\n",
      "Epoch 13/100\n",
      "500/500 [==============================] - 0s - loss: 0.1757 - acc: 0.9800 - val_loss: 0.5166 - val_acc: 0.8561\n",
      "Epoch 14/100\n",
      "500/500 [==============================] - 0s - loss: 0.1768 - acc: 0.9800 - val_loss: 0.5163 - val_acc: 0.8567\n",
      "Epoch 15/100\n",
      "500/500 [==============================] - 0s - loss: 0.1665 - acc: 0.9780 - val_loss: 0.5156 - val_acc: 0.8563\n",
      "Epoch 16/100\n",
      "500/500 [==============================] - 0s - loss: 0.1679 - acc: 0.9740 - val_loss: 0.5147 - val_acc: 0.8572\n",
      "Epoch 17/100\n",
      "500/500 [==============================] - 0s - loss: 0.1594 - acc: 0.9820 - val_loss: 0.5148 - val_acc: 0.8570\n",
      "Epoch 18/100\n",
      "500/500 [==============================] - 0s - loss: 0.1602 - acc: 0.9800 - val_loss: 0.5139 - val_acc: 0.8569\n",
      "Epoch 19/100\n",
      "500/500 [==============================] - 0s - loss: 0.1527 - acc: 0.9880 - val_loss: 0.5137 - val_acc: 0.8572\n",
      "Epoch 20/100\n",
      "500/500 [==============================] - 0s - loss: 0.1625 - acc: 0.9860 - val_loss: 0.5128 - val_acc: 0.8578\n",
      "Epoch 21/100\n",
      "500/500 [==============================] - 0s - loss: 0.1563 - acc: 0.9780 - val_loss: 0.5121 - val_acc: 0.8576\n",
      "Epoch 22/100\n",
      "500/500 [==============================] - 0s - loss: 0.1631 - acc: 0.9840 - val_loss: 0.5115 - val_acc: 0.8581\n",
      "Epoch 23/100\n",
      "500/500 [==============================] - 0s - loss: 0.1559 - acc: 0.9760 - val_loss: 0.5113 - val_acc: 0.8581\n",
      "Epoch 24/100\n",
      "500/500 [==============================] - 0s - loss: 0.1469 - acc: 0.9860 - val_loss: 0.5110 - val_acc: 0.8581\n",
      "Epoch 25/100\n",
      "500/500 [==============================] - 0s - loss: 0.1419 - acc: 0.9820 - val_loss: 0.5109 - val_acc: 0.8578\n",
      "Epoch 26/100\n",
      "500/500 [==============================] - 0s - loss: 0.1447 - acc: 0.9860 - val_loss: 0.5103 - val_acc: 0.8576\n",
      "Epoch 27/100\n",
      "500/500 [==============================] - 0s - loss: 0.1341 - acc: 0.9860 - val_loss: 0.5098 - val_acc: 0.8578\n",
      "Epoch 28/100\n",
      "500/500 [==============================] - 0s - loss: 0.1331 - acc: 0.9860 - val_loss: 0.5089 - val_acc: 0.8578\n",
      "Epoch 29/100\n",
      "500/500 [==============================] - 0s - loss: 0.1405 - acc: 0.9860 - val_loss: 0.5086 - val_acc: 0.8579\n",
      "Epoch 30/100\n",
      "500/500 [==============================] - 0s - loss: 0.1335 - acc: 0.9800 - val_loss: 0.5086 - val_acc: 0.8585\n",
      "Epoch 31/100\n",
      "500/500 [==============================] - 0s - loss: 0.1321 - acc: 0.9840 - val_loss: 0.5080 - val_acc: 0.8581\n",
      "Epoch 32/100\n",
      "500/500 [==============================] - 0s - loss: 0.1239 - acc: 0.9920 - val_loss: 0.5078 - val_acc: 0.8581\n",
      "Epoch 33/100\n",
      "500/500 [==============================] - 0s - loss: 0.1235 - acc: 0.9880 - val_loss: 0.5082 - val_acc: 0.8592\n",
      "Epoch 34/100\n",
      "500/500 [==============================] - 0s - loss: 0.1266 - acc: 0.9880 - val_loss: 0.5078 - val_acc: 0.8587\n",
      "Epoch 35/100\n",
      "500/500 [==============================] - 0s - loss: 0.1220 - acc: 0.9880 - val_loss: 0.5077 - val_acc: 0.8592\n",
      "Epoch 36/100\n",
      "500/500 [==============================] - 0s - loss: 0.1198 - acc: 0.9880 - val_loss: 0.5073 - val_acc: 0.8583\n",
      "Epoch 37/100\n",
      "500/500 [==============================] - 0s - loss: 0.1281 - acc: 0.9860 - val_loss: 0.5066 - val_acc: 0.8587\n",
      "Epoch 38/100\n",
      "500/500 [==============================] - 0s - loss: 0.1180 - acc: 0.9900 - val_loss: 0.5064 - val_acc: 0.8594\n",
      "Epoch 39/100\n",
      "500/500 [==============================] - 0s - loss: 0.1213 - acc: 0.9860 - val_loss: 0.5066 - val_acc: 0.8594\n",
      "Epoch 40/100\n",
      "500/500 [==============================] - 0s - loss: 0.1256 - acc: 0.9880 - val_loss: 0.5062 - val_acc: 0.8596\n",
      "Epoch 41/100\n",
      "500/500 [==============================] - 0s - loss: 0.1100 - acc: 0.9980 - val_loss: 0.5057 - val_acc: 0.8596\n",
      "Epoch 42/100\n",
      "500/500 [==============================] - 0s - loss: 0.1177 - acc: 0.9920 - val_loss: 0.5052 - val_acc: 0.8597\n",
      "Epoch 43/100\n",
      "500/500 [==============================] - 0s - loss: 0.1136 - acc: 0.9900 - val_loss: 0.5055 - val_acc: 0.8588\n",
      "Epoch 44/100\n",
      "500/500 [==============================] - 0s - loss: 0.1092 - acc: 0.9920 - val_loss: 0.5053 - val_acc: 0.8592\n",
      "Epoch 45/100\n",
      "500/500 [==============================] - 0s - loss: 0.1142 - acc: 0.9920 - val_loss: 0.5048 - val_acc: 0.8603\n",
      "Epoch 46/100\n",
      "500/500 [==============================] - 0s - loss: 0.1163 - acc: 0.9940 - val_loss: 0.5050 - val_acc: 0.8596\n",
      "Epoch 47/100\n",
      "500/500 [==============================] - 0s - loss: 0.1113 - acc: 0.9900 - val_loss: 0.5055 - val_acc: 0.8597\n",
      "Epoch 48/100\n",
      "500/500 [==============================] - 0s - loss: 0.1057 - acc: 0.9880 - val_loss: 0.5056 - val_acc: 0.8590\n",
      "Epoch 49/100\n",
      "500/500 [==============================] - 0s - loss: 0.1066 - acc: 0.9880 - val_loss: 0.5044 - val_acc: 0.8599\n",
      "Epoch 50/100\n",
      "500/500 [==============================] - 0s - loss: 0.0972 - acc: 0.9960 - val_loss: 0.5046 - val_acc: 0.8601\n",
      "Epoch 51/100\n",
      "500/500 [==============================] - 0s - loss: 0.0989 - acc: 0.9880 - val_loss: 0.5043 - val_acc: 0.8599\n",
      "Epoch 52/100\n",
      "500/500 [==============================] - 0s - loss: 0.1013 - acc: 0.9960 - val_loss: 0.5041 - val_acc: 0.8597\n",
      "Epoch 53/100\n",
      "500/500 [==============================] - 0s - loss: 0.1050 - acc: 0.9920 - val_loss: 0.5038 - val_acc: 0.8603\n",
      "Epoch 54/100\n",
      "500/500 [==============================] - 0s - loss: 0.1052 - acc: 0.9960 - val_loss: 0.5043 - val_acc: 0.8599\n",
      "Epoch 55/100\n",
      "500/500 [==============================] - 0s - loss: 0.0934 - acc: 1.0000 - val_loss: 0.5046 - val_acc: 0.8599\n",
      "Epoch 56/100\n",
      "500/500 [==============================] - 0s - loss: 0.0939 - acc: 0.9960 - val_loss: 0.5045 - val_acc: 0.8599\n",
      "Epoch 57/100\n",
      "500/500 [==============================] - 0s - loss: 0.1000 - acc: 0.9960 - val_loss: 0.5047 - val_acc: 0.8599\n",
      "Epoch 58/100\n",
      "500/500 [==============================] - 0s - loss: 0.0916 - acc: 0.9960 - val_loss: 0.5041 - val_acc: 0.8597\n",
      "Epoch 59/100\n",
      "500/500 [==============================] - 0s - loss: 0.0930 - acc: 1.0000 - val_loss: 0.5039 - val_acc: 0.8601\n",
      "Epoch 60/100\n",
      "500/500 [==============================] - 0s - loss: 0.0942 - acc: 0.9940 - val_loss: 0.5033 - val_acc: 0.8608\n",
      "Epoch 61/100\n",
      "500/500 [==============================] - 0s - loss: 0.0914 - acc: 0.9960 - val_loss: 0.5031 - val_acc: 0.8605\n",
      "Epoch 62/100\n",
      "500/500 [==============================] - 0s - loss: 0.0927 - acc: 0.9940 - val_loss: 0.5030 - val_acc: 0.8596\n",
      "Epoch 63/100\n",
      "500/500 [==============================] - 0s - loss: 0.0882 - acc: 0.9960 - val_loss: 0.5026 - val_acc: 0.8603\n",
      "Epoch 64/100\n",
      "500/500 [==============================] - 0s - loss: 0.0935 - acc: 0.9960 - val_loss: 0.5023 - val_acc: 0.8605\n",
      "Epoch 65/100\n",
      "500/500 [==============================] - 0s - loss: 0.0822 - acc: 0.9940 - val_loss: 0.5022 - val_acc: 0.8603\n",
      "Epoch 66/100\n"
     ]
    },
    {
     "name": "stdout",
     "output_type": "stream",
     "text": [
      "500/500 [==============================] - 0s - loss: 0.0925 - acc: 0.9960 - val_loss: 0.5022 - val_acc: 0.8594\n",
      "Epoch 67/100\n",
      "500/500 [==============================] - 0s - loss: 0.0856 - acc: 0.9980 - val_loss: 0.5018 - val_acc: 0.8608\n",
      "Epoch 68/100\n",
      "500/500 [==============================] - 0s - loss: 0.0824 - acc: 0.9940 - val_loss: 0.5017 - val_acc: 0.8606\n",
      "Epoch 69/100\n",
      "500/500 [==============================] - 0s - loss: 0.0928 - acc: 0.9940 - val_loss: 0.5017 - val_acc: 0.8610\n",
      "Epoch 70/100\n",
      "500/500 [==============================] - 0s - loss: 0.0859 - acc: 0.9980 - val_loss: 0.5019 - val_acc: 0.8615\n",
      "Epoch 71/100\n",
      "500/500 [==============================] - 0s - loss: 0.0890 - acc: 0.9960 - val_loss: 0.5024 - val_acc: 0.8606\n",
      "Epoch 72/100\n",
      "500/500 [==============================] - 0s - loss: 0.0820 - acc: 0.9980 - val_loss: 0.5026 - val_acc: 0.8606\n",
      "Epoch 73/100\n",
      "500/500 [==============================] - 0s - loss: 0.0747 - acc: 0.9980 - val_loss: 0.5023 - val_acc: 0.8601\n",
      "Epoch 74/100\n",
      "500/500 [==============================] - 0s - loss: 0.0781 - acc: 0.9980 - val_loss: 0.5022 - val_acc: 0.8605\n",
      "Epoch 75/100\n",
      "500/500 [==============================] - 0s - loss: 0.0837 - acc: 0.9960 - val_loss: 0.5024 - val_acc: 0.8614\n",
      "Epoch 76/100\n",
      "500/500 [==============================] - 0s - loss: 0.0707 - acc: 1.0000 - val_loss: 0.5020 - val_acc: 0.8612\n",
      "Epoch 77/100\n",
      "500/500 [==============================] - 0s - loss: 0.0815 - acc: 0.9960 - val_loss: 0.5018 - val_acc: 0.8610\n",
      "Epoch 78/100\n",
      "500/500 [==============================] - 0s - loss: 0.0760 - acc: 0.9980 - val_loss: 0.5017 - val_acc: 0.8610\n",
      "Epoch 79/100\n",
      "500/500 [==============================] - 0s - loss: 0.0785 - acc: 0.9960 - val_loss: 0.5013 - val_acc: 0.8608\n",
      "Epoch 80/100\n",
      "500/500 [==============================] - 0s - loss: 0.0728 - acc: 1.0000 - val_loss: 0.5011 - val_acc: 0.8614\n",
      "Epoch 81/100\n",
      "500/500 [==============================] - 0s - loss: 0.0750 - acc: 0.9960 - val_loss: 0.5012 - val_acc: 0.8612\n",
      "Epoch 82/100\n",
      "500/500 [==============================] - 0s - loss: 0.0680 - acc: 1.0000 - val_loss: 0.5018 - val_acc: 0.8612\n",
      "Epoch 83/100\n",
      "500/500 [==============================] - 0s - loss: 0.0733 - acc: 0.9960 - val_loss: 0.5018 - val_acc: 0.8606\n",
      "Epoch 84/100\n",
      "500/500 [==============================] - 0s - loss: 0.0737 - acc: 1.0000 - val_loss: 0.5017 - val_acc: 0.8605\n",
      "Epoch 85/100\n",
      "500/500 [==============================] - 0s - loss: 0.0731 - acc: 0.9980 - val_loss: 0.5012 - val_acc: 0.8612\n",
      "Epoch 86/100\n",
      "500/500 [==============================] - 0s - loss: 0.0708 - acc: 1.0000 - val_loss: 0.5013 - val_acc: 0.8610\n",
      "Epoch 87/100\n",
      "500/500 [==============================] - 0s - loss: 0.0652 - acc: 1.0000 - val_loss: 0.5016 - val_acc: 0.8615\n",
      "Epoch 88/100\n",
      "500/500 [==============================] - 0s - loss: 0.0699 - acc: 1.0000 - val_loss: 0.5015 - val_acc: 0.8617\n",
      "Epoch 89/100\n",
      "500/500 [==============================] - 0s - loss: 0.0672 - acc: 1.0000 - val_loss: 0.5017 - val_acc: 0.8615\n",
      "Epoch 90/100\n",
      "500/500 [==============================] - 0s - loss: 0.0725 - acc: 1.0000 - val_loss: 0.5021 - val_acc: 0.8612\n",
      "Epoch 91/100\n",
      "500/500 [==============================] - 0s - loss: 0.0630 - acc: 1.0000 - val_loss: 0.5024 - val_acc: 0.8608\n",
      "Epoch 92/100\n",
      "500/500 [==============================] - 0s - loss: 0.0708 - acc: 1.0000 - val_loss: 0.5019 - val_acc: 0.8608\n",
      "Epoch 93/100\n",
      "500/500 [==============================] - 0s - loss: 0.0683 - acc: 1.0000 - val_loss: 0.5021 - val_acc: 0.8605\n",
      "Epoch 94/100\n",
      "500/500 [==============================] - 0s - loss: 0.0642 - acc: 0.9980 - val_loss: 0.5022 - val_acc: 0.8606\n",
      "Epoch 95/100\n",
      "500/500 [==============================] - 0s - loss: 0.0642 - acc: 1.0000 - val_loss: 0.5017 - val_acc: 0.8614\n",
      "Epoch 96/100\n",
      "500/500 [==============================] - 0s - loss: 0.0688 - acc: 0.9980 - val_loss: 0.5020 - val_acc: 0.8615\n",
      "Epoch 97/100\n",
      "500/500 [==============================] - 0s - loss: 0.0693 - acc: 0.9960 - val_loss: 0.5019 - val_acc: 0.8615\n",
      "Epoch 98/100\n",
      "500/500 [==============================] - 0s - loss: 0.0678 - acc: 0.9960 - val_loss: 0.5027 - val_acc: 0.8614\n",
      "Epoch 99/100\n",
      "500/500 [==============================] - 0s - loss: 0.0686 - acc: 0.9980 - val_loss: 0.5019 - val_acc: 0.8623\n",
      "Epoch 100/100\n",
      "500/500 [==============================] - 0s - loss: 0.0644 - acc: 0.9980 - val_loss: 0.5016 - val_acc: 0.8614\n"
     ]
    },
    {
     "data": {
      "text/plain": [
       "<keras.callbacks.History at 0x1a21987f60>"
      ]
     },
     "execution_count": 26,
     "metadata": {},
     "output_type": "execute_result"
    }
   ],
   "source": [
    "model.fit(\n",
    "    X_train, y_train,\n",
    "    validation_data = (X_validate, y_validate),\n",
    "    batch_size = 100,\n",
    "    epochs = 100,\n",
    "    callbacks = [\n",
    "    ]\n",
    ")"
   ]
  },
  {
   "cell_type": "code",
   "execution_count": 27,
   "metadata": {},
   "outputs": [
    {
     "name": "stdout",
     "output_type": "stream",
     "text": [
      "1600/1873 [========================>.....] - ETA: 0s"
     ]
    },
    {
     "data": {
      "text/plain": [
       "0.84516817948681999"
      ]
     },
     "execution_count": 27,
     "metadata": {},
     "output_type": "execute_result"
    }
   ],
   "source": [
    "loss, metrics = model.evaluate(X_test, y_test)\n",
    "metrics"
   ]
  }
 ],
 "metadata": {
  "kernelspec": {
   "display_name": "Python 3",
   "language": "python",
   "name": "python3"
  },
  "language_info": {
   "codemirror_mode": {
    "name": "ipython",
    "version": 3
   },
   "file_extension": ".py",
   "mimetype": "text/x-python",
   "name": "python",
   "nbconvert_exporter": "python",
   "pygments_lexer": "ipython3",
   "version": "3.6.3"
  }
 },
 "nbformat": 4,
 "nbformat_minor": 2
}
