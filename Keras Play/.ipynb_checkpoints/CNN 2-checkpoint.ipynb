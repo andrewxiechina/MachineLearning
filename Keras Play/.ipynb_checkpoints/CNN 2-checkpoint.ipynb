{
 "cells": [
  {
   "cell_type": "markdown",
   "metadata": {},
   "source": [
    "# Notes\n",
    "CNN with 2 conv-nets\n",
    "- validation: 0.9378\n",
    "- test: 0.9377"
   ]
  },
  {
   "cell_type": "code",
   "execution_count": 19,
   "metadata": {},
   "outputs": [],
   "source": [
    "from keras.models import Sequential\n",
    "from keras.layers import Conv2D, Dense, Activation, Input, Flatten, Reshape, MaxPooling2D, Dropout\n",
    "from keras.callbacks import EarlyStopping\n",
    "import numpy as np"
   ]
  },
  {
   "cell_type": "code",
   "execution_count": 20,
   "metadata": {},
   "outputs": [
    {
     "name": "stdout",
     "output_type": "stream",
     "text": [
      "_________________________________________________________________\n",
      "Layer (type)                 Output Shape              Param #   \n",
      "=================================================================\n",
      "reshape_5 (Reshape)          (None, 28, 28, 1)         0         \n",
      "_________________________________________________________________\n",
      "conv2d_9 (Conv2D)            (None, 28, 28, 16)        416       \n",
      "_________________________________________________________________\n",
      "max_pooling2d_9 (MaxPooling2 (None, 14, 14, 16)        0         \n",
      "_________________________________________________________________\n",
      "dropout_14 (Dropout)         (None, 14, 14, 16)        0         \n",
      "_________________________________________________________________\n",
      "conv2d_10 (Conv2D)           (None, 14, 14, 32)        12832     \n",
      "_________________________________________________________________\n",
      "max_pooling2d_10 (MaxPooling (None, 7, 7, 32)          0         \n",
      "_________________________________________________________________\n",
      "dropout_15 (Dropout)         (None, 7, 7, 32)          0         \n",
      "_________________________________________________________________\n",
      "flatten_5 (Flatten)          (None, 1568)              0         \n",
      "_________________________________________________________________\n",
      "dense_13 (Dense)             (None, 1000)              1569000   \n",
      "_________________________________________________________________\n",
      "dropout_16 (Dropout)         (None, 1000)              0         \n",
      "_________________________________________________________________\n",
      "dense_14 (Dense)             (None, 1000)              1001000   \n",
      "_________________________________________________________________\n",
      "dense_15 (Dense)             (None, 10)                10010     \n",
      "=================================================================\n",
      "Total params: 2,593,258\n",
      "Trainable params: 2,593,258\n",
      "Non-trainable params: 0\n",
      "_________________________________________________________________\n"
     ]
    }
   ],
   "source": [
    "# constants\n",
    "n_pixels = 28\n",
    "n_classes = 10\n",
    "\n",
    "# hyper-parameters\n",
    "kernel_size=(5, 5)\n",
    "strides=(1, 1)\n",
    "activation='relu'\n",
    "input_shape = (n_pixels,n_pixels)\n",
    "pool_size=(2, 2)\n",
    "pool_strides=(2, 2)\n",
    "padding='same'\n",
    "\n",
    "# model building\n",
    "model = Sequential()\n",
    "\n",
    "# reshape\n",
    "model.add(Reshape((n_pixels, n_pixels, 1), input_shape=input_shape))\n",
    "\n",
    "# cnn part\n",
    "model.add(Conv2D(16, kernel_size=kernel_size,activation=activation,padding=padding))\n",
    "model.add(MaxPooling2D(pool_size=pool_size, strides=pool_strides))\n",
    "model.add(Dropout(0.2))\n",
    "\n",
    "model.add(Conv2D(32, kernel_size=kernel_size,activation=activation,padding=padding))\n",
    "model.add(MaxPooling2D(pool_size=pool_size, strides=pool_strides))\n",
    "model.add(Dropout(0.2))\n",
    "\n",
    "model.add(Flatten())\n",
    "model.add(Dense(1000, activation='relu'))\n",
    "model.add(Dropout(0.2))\n",
    "model.add(Dense(1000, activation='relu'))\n",
    "model.add(Dense(n_classes, activation='softmax'))\n",
    "\n",
    "model.summary()"
   ]
  },
  {
   "cell_type": "code",
   "execution_count": 21,
   "metadata": {
    "collapsed": true
   },
   "outputs": [],
   "source": [
    "model.compile(\n",
    "    loss='categorical_crossentropy',\n",
    "    optimizer='sgd',\n",
    "    metrics=['accuracy']\n",
    ")"
   ]
  },
  {
   "cell_type": "code",
   "execution_count": 22,
   "metadata": {
    "collapsed": true
   },
   "outputs": [],
   "source": [
    "X_train, y_train, X_validate, y_validate, X_test, y_test = np.load(\"/Users/andyxie/workspace/input/data_all_flat.npy\")"
   ]
  },
  {
   "cell_type": "code",
   "execution_count": 23,
   "metadata": {},
   "outputs": [
    {
     "name": "stdout",
     "output_type": "stream",
     "text": [
      "Train on 11290 samples, validate on 5561 samples\n",
      "Epoch 1/100\n",
      "11290/11290 [==============================] - 28s - loss: 1.8956 - acc: 0.4143 - val_loss: 0.9470 - val_acc: 0.7608\n",
      "Epoch 2/100\n",
      "11290/11290 [==============================] - 28s - loss: 0.8188 - acc: 0.7671 - val_loss: 0.5708 - val_acc: 0.8437\n",
      "Epoch 3/100\n",
      "11290/11290 [==============================] - 28s - loss: 0.6042 - acc: 0.8277 - val_loss: 0.4723 - val_acc: 0.8711\n",
      "Epoch 4/100\n",
      "11290/11290 [==============================] - 28s - loss: 0.5300 - acc: 0.8500 - val_loss: 0.4336 - val_acc: 0.8797\n",
      "Epoch 5/100\n",
      "11290/11290 [==============================] - 28s - loss: 0.4724 - acc: 0.8681 - val_loss: 0.4048 - val_acc: 0.8871\n",
      "Epoch 6/100\n",
      "11290/11290 [==============================] - 28s - loss: 0.4395 - acc: 0.8761 - val_loss: 0.3848 - val_acc: 0.8901\n",
      "Epoch 7/100\n",
      "11290/11290 [==============================] - 28s - loss: 0.4083 - acc: 0.8836 - val_loss: 0.3611 - val_acc: 0.8975\n",
      "Epoch 8/100\n",
      "11290/11290 [==============================] - 28s - loss: 0.3906 - acc: 0.8886 - val_loss: 0.3520 - val_acc: 0.8997\n",
      "Epoch 9/100\n",
      "11290/11290 [==============================] - 29s - loss: 0.3679 - acc: 0.8928 - val_loss: 0.3367 - val_acc: 0.9018\n",
      "Epoch 10/100\n",
      "11290/11290 [==============================] - 28s - loss: 0.3539 - acc: 0.8973 - val_loss: 0.3257 - val_acc: 0.9052\n",
      "Epoch 11/100\n",
      "11290/11290 [==============================] - 28s - loss: 0.3420 - acc: 0.9024 - val_loss: 0.3229 - val_acc: 0.9083\n",
      "Epoch 12/100\n",
      "11290/11290 [==============================] - 29s - loss: 0.3296 - acc: 0.9035 - val_loss: 0.3134 - val_acc: 0.9101\n",
      "Epoch 13/100\n",
      "11290/11290 [==============================] - 28s - loss: 0.3139 - acc: 0.9075 - val_loss: 0.3059 - val_acc: 0.9151\n",
      "Epoch 14/100\n",
      "11290/11290 [==============================] - 28s - loss: 0.3073 - acc: 0.9093 - val_loss: 0.3024 - val_acc: 0.9128\n",
      "Epoch 15/100\n",
      "11290/11290 [==============================] - 28s - loss: 0.2953 - acc: 0.9108 - val_loss: 0.2905 - val_acc: 0.9157\n",
      "Epoch 16/100\n",
      "11290/11290 [==============================] - 28s - loss: 0.2913 - acc: 0.9129 - val_loss: 0.2830 - val_acc: 0.9184\n",
      "Epoch 17/100\n",
      "11290/11290 [==============================] - 33s - loss: 0.2850 - acc: 0.9173 - val_loss: 0.2794 - val_acc: 0.9214\n",
      "Epoch 18/100\n",
      "11290/11290 [==============================] - 29s - loss: 0.2747 - acc: 0.9175 - val_loss: 0.2748 - val_acc: 0.9214\n",
      "Epoch 19/100\n",
      "11290/11290 [==============================] - 31s - loss: 0.2700 - acc: 0.9204 - val_loss: 0.2709 - val_acc: 0.9218\n",
      "Epoch 20/100\n",
      "11290/11290 [==============================] - 29s - loss: 0.2652 - acc: 0.9212 - val_loss: 0.2718 - val_acc: 0.9225\n",
      "Epoch 21/100\n",
      "11290/11290 [==============================] - 28s - loss: 0.2585 - acc: 0.9230 - val_loss: 0.2655 - val_acc: 0.9250\n",
      "Epoch 22/100\n",
      "11290/11290 [==============================] - 28s - loss: 0.2535 - acc: 0.9245 - val_loss: 0.2647 - val_acc: 0.9265\n",
      "Epoch 23/100\n",
      "11290/11290 [==============================] - 30s - loss: 0.2430 - acc: 0.9251 - val_loss: 0.2578 - val_acc: 0.9275\n",
      "Epoch 24/100\n",
      "11290/11290 [==============================] - 32s - loss: 0.2384 - acc: 0.9291 - val_loss: 0.2538 - val_acc: 0.9259\n",
      "Epoch 25/100\n",
      "11290/11290 [==============================] - 34s - loss: 0.2347 - acc: 0.9283 - val_loss: 0.2543 - val_acc: 0.9279\n",
      "Epoch 26/100\n",
      "11290/11290 [==============================] - 35s - loss: 0.2317 - acc: 0.9298 - val_loss: 0.2526 - val_acc: 0.9302\n",
      "Epoch 27/100\n",
      "11290/11290 [==============================] - 30s - loss: 0.2244 - acc: 0.9326 - val_loss: 0.2488 - val_acc: 0.9284\n",
      "Epoch 28/100\n",
      "11290/11290 [==============================] - 28s - loss: 0.2272 - acc: 0.9322 - val_loss: 0.2470 - val_acc: 0.9293\n",
      "Epoch 29/100\n",
      "11290/11290 [==============================] - 29s - loss: 0.2195 - acc: 0.9322 - val_loss: 0.2505 - val_acc: 0.9290\n",
      "Epoch 30/100\n",
      "11290/11290 [==============================] - 28s - loss: 0.2143 - acc: 0.9347 - val_loss: 0.2427 - val_acc: 0.9331\n",
      "Epoch 31/100\n",
      "11290/11290 [==============================] - 29s - loss: 0.2099 - acc: 0.9371 - val_loss: 0.2380 - val_acc: 0.9304\n",
      "Epoch 32/100\n",
      "11290/11290 [==============================] - 28s - loss: 0.2077 - acc: 0.9381 - val_loss: 0.2364 - val_acc: 0.9308\n",
      "Epoch 33/100\n",
      "11290/11290 [==============================] - 28s - loss: 0.2046 - acc: 0.9391 - val_loss: 0.2339 - val_acc: 0.9336\n",
      "Epoch 34/100\n",
      "11290/11290 [==============================] - 28s - loss: 0.2013 - acc: 0.9380 - val_loss: 0.2329 - val_acc: 0.9322\n",
      "Epoch 35/100\n",
      "11290/11290 [==============================] - 28s - loss: 0.1967 - acc: 0.9371 - val_loss: 0.2277 - val_acc: 0.9338\n",
      "Epoch 36/100\n",
      "11290/11290 [==============================] - 28s - loss: 0.1949 - acc: 0.9422 - val_loss: 0.2284 - val_acc: 0.9345\n",
      "Epoch 37/100\n",
      "11290/11290 [==============================] - 28s - loss: 0.1874 - acc: 0.9417 - val_loss: 0.2298 - val_acc: 0.9338\n",
      "Epoch 38/100\n",
      "11290/11290 [==============================] - 28s - loss: 0.1877 - acc: 0.9412 - val_loss: 0.2264 - val_acc: 0.9353\n",
      "Epoch 39/100\n",
      "11290/11290 [==============================] - 28s - loss: 0.1828 - acc: 0.9430 - val_loss: 0.2278 - val_acc: 0.9335\n",
      "Epoch 40/100\n",
      "11290/11290 [==============================] - 28s - loss: 0.1826 - acc: 0.9448 - val_loss: 0.2266 - val_acc: 0.9345\n",
      "Epoch 41/100\n",
      "11290/11290 [==============================] - 28s - loss: 0.1776 - acc: 0.9458 - val_loss: 0.2233 - val_acc: 0.9365\n",
      "Epoch 42/100\n",
      "11290/11290 [==============================] - 28s - loss: 0.1722 - acc: 0.9453 - val_loss: 0.2260 - val_acc: 0.9347\n",
      "Epoch 43/100\n",
      "11290/11290 [==============================] - 28s - loss: 0.1736 - acc: 0.9461 - val_loss: 0.2219 - val_acc: 0.9356\n",
      "Epoch 44/100\n",
      "11290/11290 [==============================] - 28s - loss: 0.1682 - acc: 0.9489 - val_loss: 0.2206 - val_acc: 0.9360\n",
      "Epoch 45/100\n",
      "11290/11290 [==============================] - 29s - loss: 0.1665 - acc: 0.9494 - val_loss: 0.2263 - val_acc: 0.9345\n",
      "Epoch 46/100\n",
      "11290/11290 [==============================] - 28s - loss: 0.1613 - acc: 0.9500 - val_loss: 0.2186 - val_acc: 0.9372\n",
      "Epoch 47/100\n",
      "11290/11290 [==============================] - 29s - loss: 0.1639 - acc: 0.9476 - val_loss: 0.2174 - val_acc: 0.9371\n",
      "Epoch 48/100\n",
      "11290/11290 [==============================] - 29s - loss: 0.1639 - acc: 0.9489 - val_loss: 0.2177 - val_acc: 0.9372\n",
      "Epoch 49/100\n",
      "11290/11290 [==============================] - 28s - loss: 0.1548 - acc: 0.9524 - val_loss: 0.2173 - val_acc: 0.9374\n",
      "Epoch 50/100\n",
      "11290/11290 [==============================] - 28s - loss: 0.1534 - acc: 0.9531 - val_loss: 0.2174 - val_acc: 0.9365\n",
      "Epoch 51/100\n",
      "11290/11290 [==============================] - 29s - loss: 0.1554 - acc: 0.9507 - val_loss: 0.2152 - val_acc: 0.9363\n",
      "Epoch 52/100\n",
      "11290/11290 [==============================] - 28s - loss: 0.1486 - acc: 0.9547 - val_loss: 0.2147 - val_acc: 0.9363\n",
      "Epoch 53/100\n",
      "11290/11290 [==============================] - 28s - loss: 0.1480 - acc: 0.9529 - val_loss: 0.2168 - val_acc: 0.9374\n",
      "Epoch 54/100\n",
      "11290/11290 [==============================] - 28s - loss: 0.1431 - acc: 0.9549 - val_loss: 0.2191 - val_acc: 0.9372\n",
      "Epoch 55/100\n",
      "11290/11290 [==============================] - 29s - loss: 0.1379 - acc: 0.9561 - val_loss: 0.2170 - val_acc: 0.9378\n"
     ]
    },
    {
     "data": {
      "text/plain": [
       "<keras.callbacks.History at 0x1a1b3dbfd0>"
      ]
     },
     "execution_count": 23,
     "metadata": {},
     "output_type": "execute_result"
    }
   ],
   "source": [
    "model.fit(\n",
    "    X_train, y_train,\n",
    "    validation_data = (X_validate, y_validate),\n",
    "    batch_size = 100,\n",
    "    epochs = 100,\n",
    "    callbacks = [\n",
    "        EarlyStopping(monitor='val_loss', patience=2, verbose=0),\n",
    "    ]\n",
    ")"
   ]
  },
  {
   "cell_type": "code",
   "execution_count": 24,
   "metadata": {},
   "outputs": [
    {
     "name": "stdout",
     "output_type": "stream",
     "text": [
      "5561/5561 [==============================] - 5s     \n"
     ]
    },
    {
     "data": {
      "text/plain": [
       "0.93778097454838305"
      ]
     },
     "execution_count": 24,
     "metadata": {},
     "output_type": "execute_result"
    }
   ],
   "source": [
    "loss, metrics = model.evaluate(X_validate, y_validate)\n",
    "metrics"
   ]
  }
 ],
 "metadata": {
  "kernelspec": {
   "display_name": "Python 3",
   "language": "python",
   "name": "python3"
  },
  "language_info": {
   "codemirror_mode": {
    "name": "ipython",
    "version": 3
   },
   "file_extension": ".py",
   "mimetype": "text/x-python",
   "name": "python",
   "nbconvert_exporter": "python",
   "pygments_lexer": "ipython3",
   "version": "3.6.3"
  }
 },
 "nbformat": 4,
 "nbformat_minor": 2
}
