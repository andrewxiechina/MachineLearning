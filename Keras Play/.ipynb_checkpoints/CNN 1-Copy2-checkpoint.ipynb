{
 "cells": [
  {
   "cell_type": "markdown",
   "metadata": {},
   "source": [
    "# Notes\n",
    "CNN with 2 conv-nets\n",
    "- validation: 0.9205\n",
    "- test: 0.9205"
   ]
  },
  {
   "cell_type": "code",
   "execution_count": 39,
   "metadata": {},
   "outputs": [],
   "source": [
    "from keras.models import Sequential\n",
    "from keras.layers import Conv2D, Dense, Activation, Input, Flatten, Reshape, MaxPooling2D\n",
    "from keras.callbacks import EarlyStopping\n",
    "import numpy as np"
   ]
  },
  {
   "cell_type": "code",
   "execution_count": 40,
   "metadata": {},
   "outputs": [
    {
     "name": "stdout",
     "output_type": "stream",
     "text": [
      "_________________________________________________________________\n",
      "Layer (type)                 Output Shape              Param #   \n",
      "=================================================================\n",
      "reshape_13 (Reshape)         (None, 28, 28, 1)         0         \n",
      "_________________________________________________________________\n",
      "conv2d_38 (Conv2D)           (None, 24, 24, 16)        416       \n",
      "_________________________________________________________________\n",
      "max_pooling2d_33 (MaxPooling (None, 12, 12, 16)        0         \n",
      "_________________________________________________________________\n",
      "conv2d_39 (Conv2D)           (None, 8, 8, 32)          12832     \n",
      "_________________________________________________________________\n",
      "max_pooling2d_34 (MaxPooling (None, 4, 4, 32)          0         \n",
      "_________________________________________________________________\n",
      "flatten_15 (Flatten)         (None, 512)               0         \n",
      "_________________________________________________________________\n",
      "dense_25 (Dense)             (None, 1000)              513000    \n",
      "_________________________________________________________________\n",
      "dense_26 (Dense)             (None, 10)                10010     \n",
      "=================================================================\n",
      "Total params: 536,258\n",
      "Trainable params: 536,258\n",
      "Non-trainable params: 0\n",
      "_________________________________________________________________\n"
     ]
    }
   ],
   "source": [
    "# constants\n",
    "n_pixels = 28\n",
    "n_classes = 10\n",
    "\n",
    "# hyper-parameters\n",
    "kernel_size=(5, 5)\n",
    "strides=(1, 1)\n",
    "activation='relu'\n",
    "input_shape = (n_pixels,n_pixels)\n",
    "pool_size=(2, 2)\n",
    "pool_strides=(2, 2)\n",
    "padding='valid'\n",
    "\n",
    "# model building\n",
    "model = Sequential()\n",
    "\n",
    "# reshape\n",
    "model.add(Reshape((n_pixels, n_pixels, 1), input_shape=input_shape))\n",
    "\n",
    "# cnn part\n",
    "model.add(Conv2D(16, kernel_size=kernel_size,activation=activation,padding=padding))\n",
    "model.add(MaxPooling2D(pool_size=pool_size, strides=pool_strides))\n",
    "\n",
    "model.add(Conv2D(32, kernel_size=kernel_size,activation=activation,padding=padding))\n",
    "model.add(MaxPooling2D(pool_size=pool_size, strides=pool_strides))\n",
    "\n",
    "model.add(Flatten())\n",
    "model.add(Dense(1000, activation='relu'))\n",
    "model.add(Dense(n_classes, activation='softmax'))\n",
    "\n",
    "model.summary()"
   ]
  },
  {
   "cell_type": "code",
   "execution_count": 41,
   "metadata": {
    "collapsed": true
   },
   "outputs": [],
   "source": [
    "model.compile(\n",
    "    loss='categorical_crossentropy',\n",
    "    optimizer='sgd',\n",
    "    metrics=['accuracy']\n",
    ")"
   ]
  },
  {
   "cell_type": "code",
   "execution_count": 42,
   "metadata": {
    "collapsed": true
   },
   "outputs": [],
   "source": [
    "X_train, y_train, X_validate, y_validate, X_test, y_test = np.load(\"/Users/andyxie/workspace/input/data_all_flat.npy\")"
   ]
  },
  {
   "cell_type": "code",
   "execution_count": 43,
   "metadata": {},
   "outputs": [
    {
     "name": "stdout",
     "output_type": "stream",
     "text": [
      "Train on 11290 samples, validate on 5561 samples\n",
      "Epoch 1/100\n",
      "11290/11290 [==============================] - 11s - loss: 1.9581 - acc: 0.4170 - val_loss: 1.2739 - val_acc: 0.6468\n",
      "Epoch 2/100\n",
      "11290/11290 [==============================] - 10s - loss: 0.8906 - acc: 0.7591 - val_loss: 0.7343 - val_acc: 0.8035\n",
      "Epoch 3/100\n",
      "11290/11290 [==============================] - 10s - loss: 0.6230 - acc: 0.8324 - val_loss: 0.5962 - val_acc: 0.8387\n",
      "Epoch 4/100\n",
      "11290/11290 [==============================] - 10s - loss: 0.5377 - acc: 0.8513 - val_loss: 0.5270 - val_acc: 0.8578\n",
      "Epoch 5/100\n",
      "11290/11290 [==============================] - 10s - loss: 0.4823 - acc: 0.8656 - val_loss: 0.4919 - val_acc: 0.8630\n",
      "Epoch 6/100\n",
      "11290/11290 [==============================] - 10s - loss: 0.4461 - acc: 0.8748 - val_loss: 0.4628 - val_acc: 0.8709\n",
      "Epoch 7/100\n",
      "11290/11290 [==============================] - 11s - loss: 0.4187 - acc: 0.8815 - val_loss: 0.4481 - val_acc: 0.8784\n",
      "Epoch 8/100\n",
      "11290/11290 [==============================] - 10s - loss: 0.3921 - acc: 0.8869 - val_loss: 0.4142 - val_acc: 0.8883\n",
      "Epoch 9/100\n",
      "11290/11290 [==============================] - 10s - loss: 0.3712 - acc: 0.8951 - val_loss: 0.4255 - val_acc: 0.8817\n",
      "Epoch 10/100\n",
      "11290/11290 [==============================] - 10s - loss: 0.3529 - acc: 0.8988 - val_loss: 0.3875 - val_acc: 0.8898\n",
      "Epoch 11/100\n",
      "11290/11290 [==============================] - 10s - loss: 0.3383 - acc: 0.9012 - val_loss: 0.3997 - val_acc: 0.8855\n",
      "Epoch 12/100\n",
      "11290/11290 [==============================] - 10s - loss: 0.3222 - acc: 0.9050 - val_loss: 0.3650 - val_acc: 0.8959\n",
      "Epoch 13/100\n",
      "11290/11290 [==============================] - 10s - loss: 0.3092 - acc: 0.9074 - val_loss: 0.3634 - val_acc: 0.8937\n",
      "Epoch 14/100\n",
      "11290/11290 [==============================] - 11s - loss: 0.2949 - acc: 0.9132 - val_loss: 0.3394 - val_acc: 0.9040\n",
      "Epoch 15/100\n",
      "11290/11290 [==============================] - 11s - loss: 0.2818 - acc: 0.9178 - val_loss: 0.3438 - val_acc: 0.9013\n",
      "Epoch 16/100\n",
      "11290/11290 [==============================] - 11s - loss: 0.2730 - acc: 0.9186 - val_loss: 0.3313 - val_acc: 0.9083\n",
      "Epoch 17/100\n",
      "11290/11290 [==============================] - 11s - loss: 0.2628 - acc: 0.9213 - val_loss: 0.3304 - val_acc: 0.9070\n",
      "Epoch 18/100\n",
      "11290/11290 [==============================] - 11s - loss: 0.2541 - acc: 0.9241 - val_loss: 0.3285 - val_acc: 0.9061\n",
      "Epoch 19/100\n",
      "11290/11290 [==============================] - 10s - loss: 0.2450 - acc: 0.9281 - val_loss: 0.3235 - val_acc: 0.9070\n",
      "Epoch 20/100\n",
      "11290/11290 [==============================] - 11s - loss: 0.2384 - acc: 0.9302 - val_loss: 0.3111 - val_acc: 0.9115\n",
      "Epoch 21/100\n",
      "11290/11290 [==============================] - 13s - loss: 0.2278 - acc: 0.9335 - val_loss: 0.3086 - val_acc: 0.9139\n",
      "Epoch 22/100\n",
      "11290/11290 [==============================] - 11s - loss: 0.2222 - acc: 0.9345 - val_loss: 0.3192 - val_acc: 0.9108\n",
      "Epoch 23/100\n",
      "11290/11290 [==============================] - 11s - loss: 0.2182 - acc: 0.9360 - val_loss: 0.2946 - val_acc: 0.9178\n",
      "Epoch 24/100\n",
      "11290/11290 [==============================] - 11s - loss: 0.2102 - acc: 0.9385 - val_loss: 0.2941 - val_acc: 0.9162\n",
      "Epoch 25/100\n",
      "11290/11290 [==============================] - 11s - loss: 0.2024 - acc: 0.9424 - val_loss: 0.2965 - val_acc: 0.9162\n",
      "Epoch 26/100\n",
      "11290/11290 [==============================] - 11s - loss: 0.1963 - acc: 0.9435 - val_loss: 0.2836 - val_acc: 0.9211\n",
      "Epoch 27/100\n",
      "11290/11290 [==============================] - 11s - loss: 0.1916 - acc: 0.9446 - val_loss: 0.2826 - val_acc: 0.9241\n",
      "Epoch 28/100\n",
      "11290/11290 [==============================] - 11s - loss: 0.1863 - acc: 0.9453 - val_loss: 0.2852 - val_acc: 0.9205\n",
      "Epoch 29/100\n",
      "11290/11290 [==============================] - 11s - loss: 0.1822 - acc: 0.9468 - val_loss: 0.2864 - val_acc: 0.9207\n",
      "Epoch 30/100\n",
      "11290/11290 [==============================] - 11s - loss: 0.1764 - acc: 0.9488 - val_loss: 0.2897 - val_acc: 0.9205\n"
     ]
    },
    {
     "data": {
      "text/plain": [
       "<keras.callbacks.History at 0x1a251a8dd8>"
      ]
     },
     "execution_count": 43,
     "metadata": {},
     "output_type": "execute_result"
    }
   ],
   "source": [
    "model.fit(\n",
    "    X_train, y_train,\n",
    "    validation_data = (X_validate, y_validate),\n",
    "    batch_size = 100,\n",
    "    epochs = 100,\n",
    "    callbacks = [\n",
    "        EarlyStopping(monitor='val_loss', patience=2, verbose=0),\n",
    "    ]\n",
    ")"
   ]
  },
  {
   "cell_type": "code",
   "execution_count": 44,
   "metadata": {},
   "outputs": [
    {
     "name": "stdout",
     "output_type": "stream",
     "text": [
      "5536/5561 [============================>.] - ETA: 0s"
     ]
    },
    {
     "data": {
      "text/plain": [
       "0.9205178923689189"
      ]
     },
     "execution_count": 44,
     "metadata": {},
     "output_type": "execute_result"
    }
   ],
   "source": [
    "loss, metrics = model.evaluate(X_validate, y_validate)\n",
    "metrics"
   ]
  }
 ],
 "metadata": {
  "kernelspec": {
   "display_name": "Python 3",
   "language": "python",
   "name": "python3"
  },
  "language_info": {
   "codemirror_mode": {
    "name": "ipython",
    "version": 3
   },
   "file_extension": ".py",
   "mimetype": "text/x-python",
   "name": "python",
   "nbconvert_exporter": "python",
   "pygments_lexer": "ipython3",
   "version": "3.6.3"
  }
 },
 "nbformat": 4,
 "nbformat_minor": 2
}
