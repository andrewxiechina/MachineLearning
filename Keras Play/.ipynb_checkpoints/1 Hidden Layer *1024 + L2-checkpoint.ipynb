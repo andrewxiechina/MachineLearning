{
 "cells": [
  {
   "cell_type": "markdown",
   "metadata": {},
   "source": [
    "# Notes\n",
    "This exercise adds L2 regularization to the layer (size = 1024), we set early stopping, the final accuracy score is:\n",
    "\n",
    "**validation:** 0.9131\n",
    "\n",
    "**test:** 0.8996"
   ]
  },
  {
   "cell_type": "code",
   "execution_count": 1,
   "metadata": {},
   "outputs": [
    {
     "name": "stderr",
     "output_type": "stream",
     "text": [
      "Using TensorFlow backend.\n",
      "/Users/andyxie/anaconda3/lib/python3.6/importlib/_bootstrap.py:219: RuntimeWarning: compiletime version 3.5 of module 'tensorflow.python.framework.fast_tensor_util' does not match runtime version 3.6\n",
      "  return f(*args, **kwds)\n"
     ]
    }
   ],
   "source": [
    "from keras.models import Sequential\n",
    "from keras.layers import Dense, Activation, Input, Flatten, Reshape\n",
    "from keras.callbacks import EarlyStopping\n",
    "from keras.regularizers import l2\n",
    "import numpy as np"
   ]
  },
  {
   "cell_type": "code",
   "execution_count": 20,
   "metadata": {},
   "outputs": [
    {
     "name": "stdout",
     "output_type": "stream",
     "text": [
      "_________________________________________________________________\n",
      "Layer (type)                 Output Shape              Param #   \n",
      "=================================================================\n",
      "reshape_5 (Reshape)          (None, 784)               0         \n",
      "_________________________________________________________________\n",
      "dense_9 (Dense)              (None, 1024)              803840    \n",
      "_________________________________________________________________\n",
      "activation_9 (Activation)    (None, 1024)              0         \n",
      "_________________________________________________________________\n",
      "dense_10 (Dense)             (None, 10)                10250     \n",
      "_________________________________________________________________\n",
      "activation_10 (Activation)   (None, 10)                0         \n",
      "=================================================================\n",
      "Total params: 814,090\n",
      "Trainable params: 814,090\n",
      "Non-trainable params: 0\n",
      "_________________________________________________________________\n"
     ]
    }
   ],
   "source": [
    "model = Sequential()\n",
    "\n",
    "model.add(Reshape((28*28,), input_shape=(28,28) ))\n",
    "model.add(Dense(\n",
    "    units=1024,\n",
    "    kernel_regularizer=l2(0.)\n",
    "))\n",
    "model.add(Activation(\"relu\"))\n",
    "model.add(Dense(units=10))\n",
    "model.add(Activation(\"softmax\"))\n",
    "\n",
    "model.summary()"
   ]
  },
  {
   "cell_type": "code",
   "execution_count": 21,
   "metadata": {
    "collapsed": true
   },
   "outputs": [],
   "source": [
    "model.compile(\n",
    "    loss='categorical_crossentropy',\n",
    "    optimizer='sgd',\n",
    "    metrics=['accuracy']\n",
    ")"
   ]
  },
  {
   "cell_type": "code",
   "execution_count": 22,
   "metadata": {
    "collapsed": true
   },
   "outputs": [],
   "source": [
    "X_train, y_train, X_validate, y_validate, X_test, y_test = np.load(\"/Users/andyxie/workspace/input/data_all_flat.npy\")"
   ]
  },
  {
   "cell_type": "code",
   "execution_count": 23,
   "metadata": {},
   "outputs": [
    {
     "name": "stdout",
     "output_type": "stream",
     "text": [
      "Train on 11290 samples, validate on 5561 samples\n",
      "Epoch 1/50\n",
      "11290/11290 [==============================] - 3s - loss: 0.8931 - acc: 0.7677 - val_loss: 0.5492 - val_acc: 0.8606\n",
      "Epoch 2/50\n",
      "11290/11290 [==============================] - 2s - loss: 0.4864 - acc: 0.8722 - val_loss: 0.4610 - val_acc: 0.8768\n",
      "Epoch 3/50\n",
      "11290/11290 [==============================] - 2s - loss: 0.4212 - acc: 0.8856 - val_loss: 0.4245 - val_acc: 0.8864\n",
      "Epoch 4/50\n",
      "11290/11290 [==============================] - 2s - loss: 0.3852 - acc: 0.8960 - val_loss: 0.4042 - val_acc: 0.8898\n",
      "Epoch 5/50\n",
      "11290/11290 [==============================] - 2s - loss: 0.3602 - acc: 0.9006 - val_loss: 0.3913 - val_acc: 0.8932\n",
      "Epoch 6/50\n",
      "11290/11290 [==============================] - 2s - loss: 0.3412 - acc: 0.9043 - val_loss: 0.3811 - val_acc: 0.8966\n",
      "Epoch 7/50\n",
      "11290/11290 [==============================] - 2s - loss: 0.3260 - acc: 0.9094 - val_loss: 0.3736 - val_acc: 0.8961\n",
      "Epoch 8/50\n",
      "11290/11290 [==============================] - 2s - loss: 0.3130 - acc: 0.9125 - val_loss: 0.3669 - val_acc: 0.8980\n",
      "Epoch 9/50\n",
      "11290/11290 [==============================] - 2s - loss: 0.3015 - acc: 0.9162 - val_loss: 0.3605 - val_acc: 0.9004\n",
      "Epoch 10/50\n",
      "11290/11290 [==============================] - 2s - loss: 0.2919 - acc: 0.9178 - val_loss: 0.3567 - val_acc: 0.9033\n",
      "Epoch 11/50\n",
      "11290/11290 [==============================] - 2s - loss: 0.2824 - acc: 0.9222 - val_loss: 0.3520 - val_acc: 0.9034\n",
      "Epoch 12/50\n",
      "11290/11290 [==============================] - 2s - loss: 0.2742 - acc: 0.9248 - val_loss: 0.3497 - val_acc: 0.9038\n",
      "Epoch 13/50\n",
      "11290/11290 [==============================] - 2s - loss: 0.2670 - acc: 0.9249 - val_loss: 0.3457 - val_acc: 0.9054\n",
      "Epoch 14/50\n",
      "11290/11290 [==============================] - 2s - loss: 0.2599 - acc: 0.9290 - val_loss: 0.3432 - val_acc: 0.9061\n",
      "Epoch 15/50\n",
      "11290/11290 [==============================] - 2s - loss: 0.2533 - acc: 0.9306 - val_loss: 0.3399 - val_acc: 0.9051\n",
      "Epoch 16/50\n",
      "11290/11290 [==============================] - 2s - loss: 0.2471 - acc: 0.9323 - val_loss: 0.3387 - val_acc: 0.9065\n",
      "Epoch 17/50\n",
      "11290/11290 [==============================] - 2s - loss: 0.2413 - acc: 0.9345 - val_loss: 0.3372 - val_acc: 0.9069\n",
      "Epoch 18/50\n",
      "11290/11290 [==============================] - 3s - loss: 0.2353 - acc: 0.9364 - val_loss: 0.3340 - val_acc: 0.9079\n",
      "Epoch 19/50\n",
      "11290/11290 [==============================] - 3s - loss: 0.2303 - acc: 0.9368 - val_loss: 0.3337 - val_acc: 0.9065\n",
      "Epoch 20/50\n",
      "11290/11290 [==============================] - 2s - loss: 0.2251 - acc: 0.9399 - val_loss: 0.3310 - val_acc: 0.9090\n",
      "Epoch 21/50\n",
      "11290/11290 [==============================] - 2s - loss: 0.2203 - acc: 0.9403 - val_loss: 0.3308 - val_acc: 0.9094\n",
      "Epoch 22/50\n",
      "11290/11290 [==============================] - 2s - loss: 0.2156 - acc: 0.9433 - val_loss: 0.3289 - val_acc: 0.9092\n",
      "Epoch 23/50\n",
      "11290/11290 [==============================] - 2s - loss: 0.2110 - acc: 0.9433 - val_loss: 0.3276 - val_acc: 0.9108\n",
      "Epoch 24/50\n",
      "11290/11290 [==============================] - 2s - loss: 0.2066 - acc: 0.9460 - val_loss: 0.3277 - val_acc: 0.9085\n",
      "Epoch 25/50\n",
      "11290/11290 [==============================] - 2s - loss: 0.2025 - acc: 0.9469 - val_loss: 0.3259 - val_acc: 0.9094\n",
      "Epoch 26/50\n",
      "11290/11290 [==============================] - 2s - loss: 0.1984 - acc: 0.9491 - val_loss: 0.3249 - val_acc: 0.9113\n",
      "Epoch 27/50\n",
      "11290/11290 [==============================] - 2s - loss: 0.1946 - acc: 0.9491 - val_loss: 0.3242 - val_acc: 0.9104\n",
      "Epoch 28/50\n",
      "11290/11290 [==============================] - 2s - loss: 0.1909 - acc: 0.9501 - val_loss: 0.3214 - val_acc: 0.9119\n",
      "Epoch 29/50\n",
      "11290/11290 [==============================] - 2s - loss: 0.1872 - acc: 0.9522 - val_loss: 0.3229 - val_acc: 0.9090\n",
      "Epoch 30/50\n",
      "11290/11290 [==============================] - 2s - loss: 0.1835 - acc: 0.9527 - val_loss: 0.3208 - val_acc: 0.9104\n",
      "Epoch 31/50\n",
      "11290/11290 [==============================] - 2s - loss: 0.1800 - acc: 0.9543 - val_loss: 0.3204 - val_acc: 0.9126\n",
      "Epoch 32/50\n",
      "11290/11290 [==============================] - 2s - loss: 0.1765 - acc: 0.9560 - val_loss: 0.3200 - val_acc: 0.9108\n",
      "Epoch 33/50\n",
      "11290/11290 [==============================] - 2s - loss: 0.1732 - acc: 0.9567 - val_loss: 0.3186 - val_acc: 0.9115\n",
      "Epoch 34/50\n",
      "11290/11290 [==============================] - 2s - loss: 0.1702 - acc: 0.9594 - val_loss: 0.3193 - val_acc: 0.9124\n",
      "Epoch 35/50\n",
      "11290/11290 [==============================] - 2s - loss: 0.1669 - acc: 0.9597 - val_loss: 0.3188 - val_acc: 0.9108\n",
      "Epoch 36/50\n",
      "11290/11290 [==============================] - 2s - loss: 0.1639 - acc: 0.9595 - val_loss: 0.3179 - val_acc: 0.9115\n",
      "Epoch 37/50\n",
      "11290/11290 [==============================] - 2s - loss: 0.1609 - acc: 0.9622 - val_loss: 0.3160 - val_acc: 0.9113\n",
      "Epoch 38/50\n",
      "11290/11290 [==============================] - 2s - loss: 0.1579 - acc: 0.9631 - val_loss: 0.3159 - val_acc: 0.9122\n",
      "Epoch 39/50\n",
      "11290/11290 [==============================] - 2s - loss: 0.1551 - acc: 0.9642 - val_loss: 0.3153 - val_acc: 0.9113\n",
      "Epoch 40/50\n",
      "11290/11290 [==============================] - 2s - loss: 0.1521 - acc: 0.9657 - val_loss: 0.3155 - val_acc: 0.9128\n",
      "Epoch 41/50\n",
      "11290/11290 [==============================] - 2s - loss: 0.1497 - acc: 0.9661 - val_loss: 0.3167 - val_acc: 0.9131\n",
      "Epoch 42/50\n",
      "11290/11290 [==============================] - 2s - loss: 0.1469 - acc: 0.9671 - val_loss: 0.3155 - val_acc: 0.9131\n"
     ]
    },
    {
     "data": {
      "text/plain": [
       "<keras.callbacks.History at 0x1a3c31eb38>"
      ]
     },
     "execution_count": 23,
     "metadata": {},
     "output_type": "execute_result"
    }
   ],
   "source": [
    "model.fit(\n",
    "    X_train, y_train,\n",
    "    validation_data = (X_validate, y_validate),\n",
    "    batch_size = 100,\n",
    "    epochs = 50,\n",
    "    callbacks = [\n",
    "        EarlyStopping(monitor='val_loss', patience=2, verbose=0),\n",
    "    ]\n",
    ")"
   ]
  },
  {
   "cell_type": "code",
   "execution_count": 24,
   "metadata": {},
   "outputs": [
    {
     "name": "stdout",
     "output_type": "stream",
     "text": [
      "1664/1873 [=========================>....] - ETA: 0s"
     ]
    },
    {
     "data": {
      "text/plain": [
       "0.89962626805104362"
      ]
     },
     "execution_count": 24,
     "metadata": {},
     "output_type": "execute_result"
    }
   ],
   "source": [
    "loss, metrics = model.evaluate(X_test, y_test)\n",
    "metrics"
   ]
  }
 ],
 "metadata": {
  "kernelspec": {
   "display_name": "Python 3",
   "language": "python",
   "name": "python3"
  },
  "language_info": {
   "codemirror_mode": {
    "name": "ipython",
    "version": 3
   },
   "file_extension": ".py",
   "mimetype": "text/x-python",
   "name": "python",
   "nbconvert_exporter": "python",
   "pygments_lexer": "ipython3",
   "version": "3.6.3"
  }
 },
 "nbformat": 4,
 "nbformat_minor": 2
}
