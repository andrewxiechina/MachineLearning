{
 "cells": [
  {
   "cell_type": "code",
   "execution_count": 43,
   "metadata": {},
   "outputs": [],
   "source": [
    "from keras.models import Sequential\n",
    "from keras.layers import Dense, Activation, Input, Flatten, Reshape\n",
    "from keras.callbacks import EarlyStopping\n",
    "import numpy as np"
   ]
  },
  {
   "cell_type": "code",
   "execution_count": 18,
   "metadata": {},
   "outputs": [
    {
     "name": "stdout",
     "output_type": "stream",
     "text": [
      "_________________________________________________________________\n",
      "Layer (type)                 Output Shape              Param #   \n",
      "=================================================================\n",
      "reshape_2 (Reshape)          (None, 784)               0         \n",
      "_________________________________________________________________\n",
      "dense_5 (Dense)              (None, 64)                50240     \n",
      "_________________________________________________________________\n",
      "activation_5 (Activation)    (None, 64)                0         \n",
      "_________________________________________________________________\n",
      "dense_6 (Dense)              (None, 10)                650       \n",
      "_________________________________________________________________\n",
      "activation_6 (Activation)    (None, 10)                0         \n",
      "=================================================================\n",
      "Total params: 50,890\n",
      "Trainable params: 50,890\n",
      "Non-trainable params: 0\n",
      "_________________________________________________________________\n"
     ]
    }
   ],
   "source": [
    "model = Sequential()\n",
    "\n",
    "model.add(Reshape((28*28,), input_shape=(28,28) ))\n",
    "model.add(Dense(units=64))\n",
    "model.add(Activation(\"relu\"))\n",
    "model.add(Dense(units=10))\n",
    "model.add(Activation(\"softmax\"))\n",
    "\n",
    "model.summary()"
   ]
  },
  {
   "cell_type": "code",
   "execution_count": 19,
   "metadata": {
    "collapsed": true
   },
   "outputs": [],
   "source": [
    "model.compile(\n",
    "    loss='categorical_crossentropy',\n",
    "    optimizer='sgd',\n",
    "    metrics=['accuracy']\n",
    ")"
   ]
  },
  {
   "cell_type": "code",
   "execution_count": 20,
   "metadata": {},
   "outputs": [],
   "source": [
    "X_train, y_train, X_validate, y_validate, X_test, y_test = np.load(\"/Users/andyxie/workspace/input/data_all_flat.npy\")"
   ]
  },
  {
   "cell_type": "code",
   "execution_count": 45,
   "metadata": {},
   "outputs": [
    {
     "name": "stdout",
     "output_type": "stream",
     "text": [
      "Train on 11290 samples, validate on 5561 samples\n",
      "Epoch 1/20\n",
      "11290/11290 [==============================] - 0s - loss: 0.2148 - acc: 0.9405 - val_loss: 0.3486 - val_acc: 0.9070\n",
      "Epoch 2/20\n",
      "11290/11290 [==============================] - 0s - loss: 0.2128 - acc: 0.9408 - val_loss: 0.3475 - val_acc: 0.9065\n",
      "Epoch 3/20\n",
      "11290/11290 [==============================] - 0s - loss: 0.2104 - acc: 0.9424 - val_loss: 0.3466 - val_acc: 0.9079\n",
      "Epoch 4/20\n",
      "11290/11290 [==============================] - 0s - loss: 0.2080 - acc: 0.9422 - val_loss: 0.3455 - val_acc: 0.9070\n",
      "Epoch 5/20\n",
      "11290/11290 [==============================] - 0s - loss: 0.2057 - acc: 0.9432 - val_loss: 0.3462 - val_acc: 0.9063\n",
      "Epoch 6/20\n",
      "11290/11290 [==============================] - 0s - loss: 0.2038 - acc: 0.9446 - val_loss: 0.3454 - val_acc: 0.9074\n",
      "Epoch 7/20\n",
      "11290/11290 [==============================] - 0s - loss: 0.2016 - acc: 0.9446 - val_loss: 0.3452 - val_acc: 0.9070\n",
      "Epoch 8/20\n",
      "11290/11290 [==============================] - 0s - loss: 0.1996 - acc: 0.9453 - val_loss: 0.3443 - val_acc: 0.9079\n",
      "Epoch 9/20\n",
      "11290/11290 [==============================] - 0s - loss: 0.1976 - acc: 0.9451 - val_loss: 0.3447 - val_acc: 0.9076\n",
      "Epoch 10/20\n",
      "11290/11290 [==============================] - 0s - loss: 0.1956 - acc: 0.9462 - val_loss: 0.3430 - val_acc: 0.9078\n",
      "Epoch 11/20\n",
      "11290/11290 [==============================] - 0s - loss: 0.1936 - acc: 0.9469 - val_loss: 0.3436 - val_acc: 0.9078\n",
      "Epoch 12/20\n",
      "11290/11290 [==============================] - 0s - loss: 0.1917 - acc: 0.9476 - val_loss: 0.3435 - val_acc: 0.9078\n",
      "Epoch 13/20\n",
      "11290/11290 [==============================] - 0s - loss: 0.1896 - acc: 0.9472 - val_loss: 0.3437 - val_acc: 0.9074\n"
     ]
    },
    {
     "data": {
      "text/plain": [
       "<keras.callbacks.History at 0x1a2f709978>"
      ]
     },
     "execution_count": 45,
     "metadata": {},
     "output_type": "execute_result"
    }
   ],
   "source": [
    "model.fit(\n",
    "    X_train, y_train,\n",
    "    validation_data = (X_validate, y_validate),\n",
    "    batch_size = 100,\n",
    "    epochs = 20,\n",
    "    callbacks = [\n",
    "        EarlyStopping(monitor='val_loss', patience=2, verbose=0),\n",
    "    ]\n",
    ")"
   ]
  },
  {
   "cell_type": "code",
   "execution_count": 41,
   "metadata": {},
   "outputs": [
    {
     "name": "stdout",
     "output_type": "stream",
     "text": [
      "5280/5561 [===========================>..] - ETA: 0s"
     ]
    },
    {
     "data": {
      "text/plain": [
       "0.90361445783132532"
      ]
     },
     "execution_count": 41,
     "metadata": {},
     "output_type": "execute_result"
    }
   ],
   "source": [
    "loss, metrics = model.evaluate(X_validate, y_validate)\n",
    "metrics"
   ]
  }
 ],
 "metadata": {
  "kernelspec": {
   "display_name": "Python 3",
   "language": "python",
   "name": "python3"
  },
  "language_info": {
   "codemirror_mode": {
    "name": "ipython",
    "version": 3
   },
   "file_extension": ".py",
   "mimetype": "text/x-python",
   "name": "python",
   "nbconvert_exporter": "python",
   "pygments_lexer": "ipython3",
   "version": "3.6.3"
  }
 },
 "nbformat": 4,
 "nbformat_minor": 2
}
