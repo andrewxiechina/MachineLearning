{
 "cells": [
  {
   "cell_type": "markdown",
   "metadata": {},
   "source": [
    "# Notes\n",
    "This exercise builds on Keras 30s Tutorial, and increase the layer size to 1024, the result is getting worse instead of better."
   ]
  },
  {
   "cell_type": "code",
   "execution_count": 2,
   "metadata": {},
   "outputs": [
    {
     "name": "stderr",
     "output_type": "stream",
     "text": [
      "Using TensorFlow backend.\n",
      "/Users/andyxie/anaconda3/lib/python3.6/importlib/_bootstrap.py:219: RuntimeWarning: compiletime version 3.5 of module 'tensorflow.python.framework.fast_tensor_util' does not match runtime version 3.6\n",
      "  return f(*args, **kwds)\n"
     ]
    }
   ],
   "source": [
    "from keras.models import Sequential\n",
    "from keras.layers import Dense, Activation, Input, Flatten, Reshape\n",
    "from keras.callbacks import EarlyStopping\n",
    "import numpy as np"
   ]
  },
  {
   "cell_type": "code",
   "execution_count": 3,
   "metadata": {},
   "outputs": [
    {
     "name": "stdout",
     "output_type": "stream",
     "text": [
      "_________________________________________________________________\n",
      "Layer (type)                 Output Shape              Param #   \n",
      "=================================================================\n",
      "reshape_1 (Reshape)          (None, 784)               0         \n",
      "_________________________________________________________________\n",
      "dense_1 (Dense)              (None, 1024)              803840    \n",
      "_________________________________________________________________\n",
      "activation_1 (Activation)    (None, 1024)              0         \n",
      "_________________________________________________________________\n",
      "dense_2 (Dense)              (None, 10)                10250     \n",
      "_________________________________________________________________\n",
      "activation_2 (Activation)    (None, 10)                0         \n",
      "=================================================================\n",
      "Total params: 814,090\n",
      "Trainable params: 814,090\n",
      "Non-trainable params: 0\n",
      "_________________________________________________________________\n"
     ]
    }
   ],
   "source": [
    "model = Sequential()\n",
    "\n",
    "model.add(Reshape((28*28,), input_shape=(28,28) ))\n",
    "model.add(Dense(units=1024))\n",
    "model.add(Activation(\"relu\"))\n",
    "model.add(Dense(units=10))\n",
    "model.add(Activation(\"softmax\"))\n",
    "\n",
    "model.summary()"
   ]
  },
  {
   "cell_type": "code",
   "execution_count": 4,
   "metadata": {
    "collapsed": true
   },
   "outputs": [],
   "source": [
    "model.compile(\n",
    "    loss='categorical_crossentropy',\n",
    "    optimizer='sgd',\n",
    "    metrics=['accuracy']\n",
    ")"
   ]
  },
  {
   "cell_type": "code",
   "execution_count": 5,
   "metadata": {
    "collapsed": true
   },
   "outputs": [],
   "source": [
    "X_train, y_train, X_validate, y_validate, X_test, y_test = np.load(\"/Users/andyxie/workspace/input/data_all_flat.npy\")"
   ]
  },
  {
   "cell_type": "code",
   "execution_count": 6,
   "metadata": {},
   "outputs": [
    {
     "name": "stdout",
     "output_type": "stream",
     "text": [
      "Train on 11290 samples, validate on 5561 samples\n",
      "Epoch 1/20\n",
      "11290/11290 [==============================] - 2s - loss: 0.8387 - acc: 0.7858 - val_loss: 0.5494 - val_acc: 0.8650\n",
      "Epoch 2/20\n",
      "11290/11290 [==============================] - 2s - loss: 0.4856 - acc: 0.8726 - val_loss: 0.4652 - val_acc: 0.8783\n",
      "Epoch 3/20\n",
      "11290/11290 [==============================] - 2s - loss: 0.4217 - acc: 0.8867 - val_loss: 0.4313 - val_acc: 0.8815\n",
      "Epoch 4/20\n",
      "11290/11290 [==============================] - 2s - loss: 0.3871 - acc: 0.8923 - val_loss: 0.4114 - val_acc: 0.8853\n",
      "Epoch 5/20\n",
      "11290/11290 [==============================] - 2s - loss: 0.3626 - acc: 0.8989 - val_loss: 0.3993 - val_acc: 0.8894\n",
      "Epoch 6/20\n",
      "11290/11290 [==============================] - 2s - loss: 0.3436 - acc: 0.9036 - val_loss: 0.3862 - val_acc: 0.8917\n",
      "Epoch 7/20\n",
      "11290/11290 [==============================] - 2s - loss: 0.3285 - acc: 0.9068 - val_loss: 0.3805 - val_acc: 0.8952\n",
      "Epoch 8/20\n",
      "11290/11290 [==============================] - 2s - loss: 0.3154 - acc: 0.9109 - val_loss: 0.3737 - val_acc: 0.8962\n",
      "Epoch 9/20\n",
      "11290/11290 [==============================] - 2s - loss: 0.3042 - acc: 0.9138 - val_loss: 0.3679 - val_acc: 0.8973\n",
      "Epoch 10/20\n",
      "11290/11290 [==============================] - 2s - loss: 0.2939 - acc: 0.9177 - val_loss: 0.3660 - val_acc: 0.8975\n",
      "Epoch 11/20\n",
      "11290/11290 [==============================] - 2s - loss: 0.2847 - acc: 0.9211 - val_loss: 0.3598 - val_acc: 0.9009\n",
      "Epoch 12/20\n",
      "11290/11290 [==============================] - 2s - loss: 0.2763 - acc: 0.9237 - val_loss: 0.3555 - val_acc: 0.9009\n",
      "Epoch 13/20\n",
      "11290/11290 [==============================] - 2s - loss: 0.2691 - acc: 0.9260 - val_loss: 0.3529 - val_acc: 0.9007\n",
      "Epoch 14/20\n",
      "11290/11290 [==============================] - 2s - loss: 0.2613 - acc: 0.9288 - val_loss: 0.3512 - val_acc: 0.9034\n",
      "Epoch 15/20\n",
      "11290/11290 [==============================] - 2s - loss: 0.2547 - acc: 0.9301 - val_loss: 0.3513 - val_acc: 0.9009\n",
      "Epoch 16/20\n",
      "11290/11290 [==============================] - 2s - loss: 0.2488 - acc: 0.9317 - val_loss: 0.3459 - val_acc: 0.9047\n",
      "Epoch 17/20\n",
      "11290/11290 [==============================] - 2s - loss: 0.2427 - acc: 0.9338 - val_loss: 0.3448 - val_acc: 0.9042\n",
      "Epoch 18/20\n",
      "11290/11290 [==============================] - 2s - loss: 0.2370 - acc: 0.9365 - val_loss: 0.3424 - val_acc: 0.9042\n",
      "Epoch 19/20\n",
      "11290/11290 [==============================] - 2s - loss: 0.2315 - acc: 0.9376 - val_loss: 0.3408 - val_acc: 0.9072\n",
      "Epoch 20/20\n",
      "11290/11290 [==============================] - 2s - loss: 0.2265 - acc: 0.9403 - val_loss: 0.3390 - val_acc: 0.9065\n"
     ]
    },
    {
     "data": {
      "text/plain": [
       "<keras.callbacks.History at 0x1a267e6e48>"
      ]
     },
     "execution_count": 6,
     "metadata": {},
     "output_type": "execute_result"
    }
   ],
   "source": [
    "model.fit(\n",
    "    X_train, y_train,\n",
    "    validation_data = (X_validate, y_validate),\n",
    "    batch_size = 100,\n",
    "    epochs = 20,\n",
    "    callbacks = [\n",
    "        EarlyStopping(monitor='val_loss', patience=2, verbose=0),\n",
    "    ]\n",
    ")"
   ]
  },
  {
   "cell_type": "code",
   "execution_count": 41,
   "metadata": {},
   "outputs": [
    {
     "name": "stdout",
     "output_type": "stream",
     "text": [
      "5280/5561 [===========================>..] - ETA: 0s"
     ]
    },
    {
     "data": {
      "text/plain": [
       "0.90361445783132532"
      ]
     },
     "execution_count": 41,
     "metadata": {},
     "output_type": "execute_result"
    }
   ],
   "source": [
    "loss, metrics = model.evaluate(X_validate, y_validate)\n",
    "metrics"
   ]
  }
 ],
 "metadata": {
  "kernelspec": {
   "display_name": "Python 3",
   "language": "python",
   "name": "python3"
  },
  "language_info": {
   "codemirror_mode": {
    "name": "ipython",
    "version": 3
   },
   "file_extension": ".py",
   "mimetype": "text/x-python",
   "name": "python",
   "nbconvert_exporter": "python",
   "pygments_lexer": "ipython3",
   "version": "3.6.3"
  }
 },
 "nbformat": 4,
 "nbformat_minor": 2
}
