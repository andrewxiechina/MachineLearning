{
 "cells": [
  {
   "cell_type": "markdown",
   "metadata": {},
   "source": [
    "# Notes\n",
    "This exercise experiments on 1 hidden layer (size = 1024) with full data.\n",
    "Dropout does improve accuracy, the improvement is very significant.\n",
    "\n",
    "**Senario without dropout**\n",
    "- validation: 0.9198\n",
    "- test: 0.9038\n",
    "\n",
    "\n"
   ]
  },
  {
   "cell_type": "code",
   "execution_count": 1,
   "metadata": {},
   "outputs": [
    {
     "name": "stderr",
     "output_type": "stream",
     "text": [
      "Using TensorFlow backend.\n",
      "/Users/andyxie/anaconda3/lib/python3.6/importlib/_bootstrap.py:219: RuntimeWarning: compiletime version 3.5 of module 'tensorflow.python.framework.fast_tensor_util' does not match runtime version 3.6\n",
      "  return f(*args, **kwds)\n"
     ]
    }
   ],
   "source": [
    "from keras.models import Sequential\n",
    "from keras.layers import Dense, Activation, Input, Flatten, Reshape, Dropout\n",
    "from keras.callbacks import EarlyStopping\n",
    "from keras.regularizers import l2\n",
    "import numpy as np"
   ]
  },
  {
   "cell_type": "code",
   "execution_count": 2,
   "metadata": {},
   "outputs": [
    {
     "name": "stdout",
     "output_type": "stream",
     "text": [
      "_________________________________________________________________\n",
      "Layer (type)                 Output Shape              Param #   \n",
      "=================================================================\n",
      "reshape_1 (Reshape)          (None, 784)               0         \n",
      "_________________________________________________________________\n",
      "dense_1 (Dense)              (None, 1024)              803840    \n",
      "_________________________________________________________________\n",
      "activation_1 (Activation)    (None, 1024)              0         \n",
      "_________________________________________________________________\n",
      "dropout_1 (Dropout)          (None, 1024)              0         \n",
      "_________________________________________________________________\n",
      "dense_2 (Dense)              (None, 10)                10250     \n",
      "_________________________________________________________________\n",
      "activation_2 (Activation)    (None, 10)                0         \n",
      "=================================================================\n",
      "Total params: 814,090\n",
      "Trainable params: 814,090\n",
      "Non-trainable params: 0\n",
      "_________________________________________________________________\n"
     ]
    }
   ],
   "source": [
    "model = Sequential()\n",
    "\n",
    "model.add(Reshape((28*28,), input_shape=(28,28) ))\n",
    "model.add(Dense(\n",
    "    units=1024,\n",
    "))\n",
    "model.add(Activation(\"relu\"))\n",
    "model.add(Dropout(0.2))\n",
    "model.add(Dense(units=10))\n",
    "model.add(Activation(\"softmax\"))\n",
    "\n",
    "model.summary()"
   ]
  },
  {
   "cell_type": "code",
   "execution_count": 3,
   "metadata": {
    "collapsed": true
   },
   "outputs": [],
   "source": [
    "model.compile(\n",
    "    loss='categorical_crossentropy',\n",
    "    optimizer='sgd',\n",
    "    metrics=['accuracy']\n",
    ")"
   ]
  },
  {
   "cell_type": "code",
   "execution_count": 4,
   "metadata": {
    "collapsed": true
   },
   "outputs": [],
   "source": [
    "X_train, y_train, X_validate, y_validate, X_test, y_test = np.load(\"/Users/andyxie/workspace/input/data_all_flat.npy\")"
   ]
  },
  {
   "cell_type": "code",
   "execution_count": 5,
   "metadata": {},
   "outputs": [
    {
     "name": "stdout",
     "output_type": "stream",
     "text": [
      "Train on 11290 samples, validate on 5561 samples\n",
      "Epoch 1/100\n",
      "11290/11290 [==============================] - 3s - loss: 0.9440 - acc: 0.7374 - val_loss: 0.5490 - val_acc: 0.8581\n",
      "Epoch 2/100\n",
      "11290/11290 [==============================] - 2s - loss: 0.5166 - acc: 0.8581 - val_loss: 0.4607 - val_acc: 0.8743\n",
      "Epoch 3/100\n",
      "11290/11290 [==============================] - 2s - loss: 0.4487 - acc: 0.8757 - val_loss: 0.4248 - val_acc: 0.8835\n",
      "Epoch 4/100\n",
      "11290/11290 [==============================] - 2s - loss: 0.4073 - acc: 0.8856 - val_loss: 0.4053 - val_acc: 0.8903\n",
      "Epoch 5/100\n",
      "11290/11290 [==============================] - 2s - loss: 0.3834 - acc: 0.8903 - val_loss: 0.3912 - val_acc: 0.89160 - ETA: 1s - los\n",
      "Epoch 6/100\n",
      "11290/11290 [==============================] - 2s - loss: 0.3663 - acc: 0.8939 - val_loss: 0.3813 - val_acc: 0.8948\n",
      "Epoch 7/100\n",
      "11290/11290 [==============================] - 2s - loss: 0.3490 - acc: 0.9006 - val_loss: 0.3743 - val_acc: 0.8964\n",
      "Epoch 8/100\n",
      "11290/11290 [==============================] - 3s - loss: 0.3329 - acc: 0.9074 - val_loss: 0.3679 - val_acc: 0.8979\n",
      "Epoch 9/100\n",
      "11290/11290 [==============================] - 2s - loss: 0.3255 - acc: 0.9050 - val_loss: 0.3624 - val_acc: 0.9004\n",
      "Epoch 10/100\n",
      "11290/11290 [==============================] - 2s - loss: 0.3118 - acc: 0.9098 - val_loss: 0.3580 - val_acc: 0.9022\n",
      "Epoch 11/100\n",
      "11290/11290 [==============================] - 2s - loss: 0.3040 - acc: 0.9127 - val_loss: 0.3546 - val_acc: 0.9024\n",
      "Epoch 12/100\n",
      "11290/11290 [==============================] - 2s - loss: 0.2957 - acc: 0.9138 - val_loss: 0.3515 - val_acc: 0.9056\n",
      "Epoch 13/100\n",
      "11290/11290 [==============================] - 2s - loss: 0.2863 - acc: 0.9190 - val_loss: 0.3509 - val_acc: 0.9045\n",
      "Epoch 14/100\n",
      "11290/11290 [==============================] - 2s - loss: 0.2819 - acc: 0.9195 - val_loss: 0.3458 - val_acc: 0.9083\n",
      "Epoch 15/100\n",
      "11290/11290 [==============================] - 3s - loss: 0.2731 - acc: 0.9194 - val_loss: 0.3428 - val_acc: 0.9086\n",
      "Epoch 16/100\n",
      "11290/11290 [==============================] - 2s - loss: 0.2666 - acc: 0.9230 - val_loss: 0.3424 - val_acc: 0.9092\n",
      "Epoch 17/100\n",
      "11290/11290 [==============================] - 2s - loss: 0.2626 - acc: 0.9259 - val_loss: 0.3397 - val_acc: 0.9076\n",
      "Epoch 18/100\n",
      "11290/11290 [==============================] - 2s - loss: 0.2560 - acc: 0.9288 - val_loss: 0.3379 - val_acc: 0.9086\n",
      "Epoch 19/100\n",
      "11290/11290 [==============================] - 2s - loss: 0.2497 - acc: 0.9280 - val_loss: 0.3353 - val_acc: 0.9085\n",
      "Epoch 20/100\n",
      "11290/11290 [==============================] - 2s - loss: 0.2461 - acc: 0.9284 - val_loss: 0.3356 - val_acc: 0.9088\n",
      "Epoch 21/100\n",
      "11290/11290 [==============================] - 2s - loss: 0.2414 - acc: 0.9289 - val_loss: 0.3311 - val_acc: 0.9115\n",
      "Epoch 22/100\n",
      "11290/11290 [==============================] - 2s - loss: 0.2361 - acc: 0.9335 - val_loss: 0.3309 - val_acc: 0.9106\n",
      "Epoch 23/100\n",
      "11290/11290 [==============================] - 3s - loss: 0.2330 - acc: 0.9326 - val_loss: 0.3301 - val_acc: 0.9110\n",
      "Epoch 24/100\n",
      "11290/11290 [==============================] - 2s - loss: 0.2255 - acc: 0.9374 - val_loss: 0.3303 - val_acc: 0.9110\n",
      "Epoch 25/100\n",
      "11290/11290 [==============================] - 2s - loss: 0.2241 - acc: 0.9374 - val_loss: 0.3265 - val_acc: 0.9128\n",
      "Epoch 26/100\n",
      "11290/11290 [==============================] - 2s - loss: 0.2209 - acc: 0.9357 - val_loss: 0.3267 - val_acc: 0.9128\n",
      "Epoch 27/100\n",
      "11290/11290 [==============================] - 2s - loss: 0.2173 - acc: 0.9383 - val_loss: 0.3266 - val_acc: 0.9124\n",
      "Epoch 28/100\n",
      "11290/11290 [==============================] - 3s - loss: 0.2135 - acc: 0.9408 - val_loss: 0.3249 - val_acc: 0.9131\n",
      "Epoch 29/100\n",
      "11290/11290 [==============================] - 2s - loss: 0.2100 - acc: 0.9395 - val_loss: 0.3244 - val_acc: 0.9126\n",
      "Epoch 30/100\n",
      "11290/11290 [==============================] - 2s - loss: 0.2080 - acc: 0.9435 - val_loss: 0.3245 - val_acc: 0.9137\n",
      "Epoch 31/100\n",
      "11290/11290 [==============================] - 2s - loss: 0.2015 - acc: 0.9443 - val_loss: 0.3219 - val_acc: 0.9146\n",
      "Epoch 32/100\n",
      "11290/11290 [==============================] - 2s - loss: 0.1988 - acc: 0.9439 - val_loss: 0.3238 - val_acc: 0.9142\n",
      "Epoch 33/100\n",
      "11290/11290 [==============================] - 2s - loss: 0.1946 - acc: 0.9448 - val_loss: 0.3212 - val_acc: 0.9149\n",
      "Epoch 34/100\n",
      "11290/11290 [==============================] - 2s - loss: 0.1924 - acc: 0.9452 - val_loss: 0.3211 - val_acc: 0.9146\n",
      "Epoch 35/100\n",
      "11290/11290 [==============================] - 3s - loss: 0.1872 - acc: 0.9492 - val_loss: 0.3205 - val_acc: 0.9171\n",
      "Epoch 36/100\n",
      "11290/11290 [==============================] - 2s - loss: 0.1867 - acc: 0.9482 - val_loss: 0.3194 - val_acc: 0.9140\n",
      "Epoch 37/100\n",
      "11290/11290 [==============================] - 3s - loss: 0.1834 - acc: 0.9484 - val_loss: 0.3205 - val_acc: 0.9148\n",
      "Epoch 38/100\n",
      "11290/11290 [==============================] - 2s - loss: 0.1802 - acc: 0.9515 - val_loss: 0.3188 - val_acc: 0.9144\n",
      "Epoch 39/100\n",
      "11290/11290 [==============================] - 2s - loss: 0.1773 - acc: 0.9525 - val_loss: 0.3182 - val_acc: 0.9153\n",
      "Epoch 40/100\n",
      "11290/11290 [==============================] - 2s - loss: 0.1775 - acc: 0.9512 - val_loss: 0.3180 - val_acc: 0.9149\n",
      "Epoch 41/100\n",
      "11290/11290 [==============================] - 2s - loss: 0.1745 - acc: 0.9518 - val_loss: 0.3178 - val_acc: 0.9167\n",
      "Epoch 42/100\n",
      "11290/11290 [==============================] - 3s - loss: 0.1717 - acc: 0.9539 - val_loss: 0.3172 - val_acc: 0.9153\n",
      "Epoch 43/100\n",
      "11290/11290 [==============================] - 3s - loss: 0.1663 - acc: 0.9560 - val_loss: 0.3165 - val_acc: 0.9162\n",
      "Epoch 44/100\n",
      "11290/11290 [==============================] - 3s - loss: 0.1637 - acc: 0.9567 - val_loss: 0.3158 - val_acc: 0.9166\n",
      "Epoch 45/100\n",
      "11290/11290 [==============================] - 3s - loss: 0.1645 - acc: 0.9571 - val_loss: 0.3157 - val_acc: 0.9171\n",
      "Epoch 46/100\n",
      "11290/11290 [==============================] - 2s - loss: 0.1597 - acc: 0.9569 - val_loss: 0.3157 - val_acc: 0.9175\n",
      "Epoch 47/100\n",
      "11290/11290 [==============================] - 2s - loss: 0.1573 - acc: 0.9595 - val_loss: 0.3149 - val_acc: 0.9176\n",
      "Epoch 48/100\n",
      "11290/11290 [==============================] - 2s - loss: 0.1552 - acc: 0.9584 - val_loss: 0.3155 - val_acc: 0.9164\n",
      "Epoch 49/100\n",
      "11290/11290 [==============================] - 3s - loss: 0.1546 - acc: 0.9585 - val_loss: 0.3141 - val_acc: 0.9169\n",
      "Epoch 50/100\n",
      "11290/11290 [==============================] - 3s - loss: 0.1510 - acc: 0.9603 - val_loss: 0.3138 - val_acc: 0.9167\n",
      "Epoch 51/100\n",
      "11290/11290 [==============================] - 2s - loss: 0.1477 - acc: 0.9618 - val_loss: 0.3132 - val_acc: 0.9164\n",
      "Epoch 52/100\n",
      "11290/11290 [==============================] - 3s - loss: 0.1478 - acc: 0.9624 - val_loss: 0.3135 - val_acc: 0.9162\n",
      "Epoch 53/100\n",
      "11290/11290 [==============================] - 3s - loss: 0.1419 - acc: 0.9640 - val_loss: 0.3135 - val_acc: 0.9162\n",
      "Epoch 54/100\n",
      "11290/11290 [==============================] - 3s - loss: 0.1420 - acc: 0.9643 - val_loss: 0.3145 - val_acc: 0.9171\n",
      "Epoch 55/100\n",
      "11290/11290 [==============================] - 3s - loss: 0.1400 - acc: 0.9639 - val_loss: 0.3125 - val_acc: 0.9166\n",
      "Epoch 56/100\n",
      "11290/11290 [==============================] - 3s - loss: 0.1362 - acc: 0.9641 - val_loss: 0.3127 - val_acc: 0.9167\n",
      "Epoch 57/100\n",
      "11290/11290 [==============================] - 3s - loss: 0.1354 - acc: 0.9654 - val_loss: 0.3134 - val_acc: 0.9178\n",
      "Epoch 58/100\n",
      "11290/11290 [==============================] - 3s - loss: 0.1336 - acc: 0.9657 - val_loss: 0.3121 - val_acc: 0.9173\n",
      "Epoch 59/100\n",
      "11290/11290 [==============================] - 3s - loss: 0.1323 - acc: 0.9659 - val_loss: 0.3133 - val_acc: 0.9171\n",
      "Epoch 60/100\n",
      "11290/11290 [==============================] - 3s - loss: 0.1295 - acc: 0.9681 - val_loss: 0.3113 - val_acc: 0.9175\n",
      "Epoch 61/100\n",
      "11290/11290 [==============================] - 3s - loss: 0.1287 - acc: 0.9691 - val_loss: 0.3111 - val_acc: 0.9178\n",
      "Epoch 62/100\n",
      "11290/11290 [==============================] - 3s - loss: 0.1252 - acc: 0.9667 - val_loss: 0.3109 - val_acc: 0.9180\n",
      "Epoch 63/100\n",
      "11290/11290 [==============================] - 3s - loss: 0.1272 - acc: 0.9694 - val_loss: 0.3106 - val_acc: 0.9176\n",
      "Epoch 64/100\n"
     ]
    },
    {
     "name": "stdout",
     "output_type": "stream",
     "text": [
      "11290/11290 [==============================] - 2s - loss: 0.1225 - acc: 0.9678 - val_loss: 0.3121 - val_acc: 0.9171\n",
      "Epoch 65/100\n",
      "11290/11290 [==============================] - 2s - loss: 0.1203 - acc: 0.9705 - val_loss: 0.3100 - val_acc: 0.9187\n",
      "Epoch 66/100\n",
      "11290/11290 [==============================] - 2s - loss: 0.1192 - acc: 0.9710 - val_loss: 0.3108 - val_acc: 0.9184\n",
      "Epoch 67/100\n",
      "11290/11290 [==============================] - 2s - loss: 0.1155 - acc: 0.9731 - val_loss: 0.3095 - val_acc: 0.9187\n",
      "Epoch 68/100\n",
      "11290/11290 [==============================] - 3s - loss: 0.1150 - acc: 0.9735 - val_loss: 0.3107 - val_acc: 0.9173s - loss: 0.113\n",
      "Epoch 69/100\n",
      "11290/11290 [==============================] - 3s - loss: 0.1132 - acc: 0.9729 - val_loss: 0.3111 - val_acc: 0.9180\n",
      "Epoch 70/100\n",
      "11290/11290 [==============================] - 3s - loss: 0.1125 - acc: 0.9731 - val_loss: 0.3095 - val_acc: 0.9185\n",
      "Epoch 71/100\n",
      "11290/11290 [==============================] - 2s - loss: 0.1092 - acc: 0.9743 - val_loss: 0.3109 - val_acc: 0.9178\n",
      "Epoch 72/100\n",
      "11290/11290 [==============================] - 2s - loss: 0.1102 - acc: 0.9751 - val_loss: 0.3098 - val_acc: 0.9180\n",
      "Epoch 73/100\n",
      "11290/11290 [==============================] - 3s - loss: 0.1096 - acc: 0.9748 - val_loss: 0.3103 - val_acc: 0.9184\n",
      "Epoch 74/100\n",
      "11290/11290 [==============================] - 3s - loss: 0.1058 - acc: 0.9746 - val_loss: 0.3105 - val_acc: 0.9185\n",
      "Epoch 75/100\n",
      "11290/11290 [==============================] - 2s - loss: 0.1065 - acc: 0.9752 - val_loss: 0.3102 - val_acc: 0.9187\n",
      "Epoch 76/100\n",
      "11290/11290 [==============================] - 3s - loss: 0.1051 - acc: 0.9755 - val_loss: 0.3098 - val_acc: 0.9187\n",
      "Epoch 77/100\n",
      "11290/11290 [==============================] - 3s - loss: 0.1019 - acc: 0.9761 - val_loss: 0.3096 - val_acc: 0.9191\n",
      "Epoch 78/100\n",
      "11290/11290 [==============================] - 3s - loss: 0.0995 - acc: 0.9771 - val_loss: 0.3092 - val_acc: 0.9198\n",
      "Epoch 79/100\n",
      "11290/11290 [==============================] - 3s - loss: 0.0983 - acc: 0.9786 - val_loss: 0.3102 - val_acc: 0.9191\n",
      "Epoch 80/100\n",
      "11290/11290 [==============================] - 2s - loss: 0.0989 - acc: 0.9774 - val_loss: 0.3090 - val_acc: 0.9189oss: 0.0988 - acc: 0.977\n",
      "Epoch 81/100\n",
      "11290/11290 [==============================] - 2s - loss: 0.0965 - acc: 0.9808 - val_loss: 0.3103 - val_acc: 0.9185\n",
      "Epoch 82/100\n",
      "11290/11290 [==============================] - 2s - loss: 0.0981 - acc: 0.9778 - val_loss: 0.3093 - val_acc: 0.9196\n",
      "Epoch 83/100\n",
      "11290/11290 [==============================] - 3s - loss: 0.0947 - acc: 0.9797 - val_loss: 0.3102 - val_acc: 0.9193\n",
      "Epoch 84/100\n",
      "11290/11290 [==============================] - 3s - loss: 0.0931 - acc: 0.9804 - val_loss: 0.3110 - val_acc: 0.9191\n",
      "Epoch 85/100\n",
      "11290/11290 [==============================] - 4s - loss: 0.0928 - acc: 0.9790 - val_loss: 0.3092 - val_acc: 0.9198\n",
      "Epoch 86/100\n",
      "11290/11290 [==============================] - 3s - loss: 0.0930 - acc: 0.9808 - val_loss: 0.3102 - val_acc: 0.9193\n",
      "Epoch 87/100\n",
      "11290/11290 [==============================] - 3s - loss: 0.0886 - acc: 0.9798 - val_loss: 0.3097 - val_acc: 0.9202\n",
      "Epoch 88/100\n",
      "11290/11290 [==============================] - 3s - loss: 0.0894 - acc: 0.9798 - val_loss: 0.3095 - val_acc: 0.9187\n",
      "Epoch 89/100\n",
      "11290/11290 [==============================] - 3s - loss: 0.0872 - acc: 0.9816 - val_loss: 0.3099 - val_acc: 0.9187\n",
      "Epoch 90/100\n",
      "11290/11290 [==============================] - 3s - loss: 0.0885 - acc: 0.9809 - val_loss: 0.3102 - val_acc: 0.9194\n",
      "Epoch 91/100\n",
      "11290/11290 [==============================] - 3s - loss: 0.0850 - acc: 0.9826 - val_loss: 0.3106 - val_acc: 0.9185\n",
      "Epoch 92/100\n",
      "11290/11290 [==============================] - 3s - loss: 0.0856 - acc: 0.9820 - val_loss: 0.3097 - val_acc: 0.9193\n",
      "Epoch 93/100\n",
      "11290/11290 [==============================] - 3s - loss: 0.0847 - acc: 0.9821 - val_loss: 0.3105 - val_acc: 0.9202\n",
      "Epoch 94/100\n",
      "11290/11290 [==============================] - 3s - loss: 0.0852 - acc: 0.9826 - val_loss: 0.3101 - val_acc: 0.9193\n",
      "Epoch 95/100\n",
      "11290/11290 [==============================] - 3s - loss: 0.0830 - acc: 0.9834 - val_loss: 0.3124 - val_acc: 0.9184\n",
      "Epoch 96/100\n",
      "11290/11290 [==============================] - 3s - loss: 0.0803 - acc: 0.9841 - val_loss: 0.3113 - val_acc: 0.9194\n",
      "Epoch 97/100\n",
      "11290/11290 [==============================] - 3s - loss: 0.0806 - acc: 0.9833 - val_loss: 0.3134 - val_acc: 0.9191\n",
      "Epoch 98/100\n",
      "11290/11290 [==============================] - 3s - loss: 0.0780 - acc: 0.9840 - val_loss: 0.3104 - val_acc: 0.9193\n",
      "Epoch 99/100\n",
      "11290/11290 [==============================] - 3s - loss: 0.0780 - acc: 0.9853 - val_loss: 0.3112 - val_acc: 0.9202\n",
      "Epoch 100/100\n",
      "11290/11290 [==============================] - 3s - loss: 0.0752 - acc: 0.9862 - val_loss: 0.3109 - val_acc: 0.9198\n"
     ]
    },
    {
     "data": {
      "text/plain": [
       "<keras.callbacks.History at 0x1a32643048>"
      ]
     },
     "execution_count": 5,
     "metadata": {},
     "output_type": "execute_result"
    }
   ],
   "source": [
    "model.fit(\n",
    "    X_train, y_train,\n",
    "    validation_data = (X_validate, y_validate),\n",
    "    batch_size = 100,\n",
    "    epochs = 100,\n",
    "    callbacks = [\n",
    "        EarlyStopping(monitor='val_loss', patience=2, verbose=0),\n",
    "    ]\n",
    ")"
   ]
  },
  {
   "cell_type": "code",
   "execution_count": 6,
   "metadata": {},
   "outputs": [
    {
     "name": "stdout",
     "output_type": "stream",
     "text": [
      "1696/1873 [==========================>...] - ETA: 0s"
     ]
    },
    {
     "data": {
      "text/plain": [
       "0.90389749068852354"
      ]
     },
     "execution_count": 6,
     "metadata": {},
     "output_type": "execute_result"
    }
   ],
   "source": [
    "loss, metrics = model.evaluate(X_test, y_test)\n",
    "metrics"
   ]
  }
 ],
 "metadata": {
  "kernelspec": {
   "display_name": "Python 3",
   "language": "python",
   "name": "python3"
  },
  "language_info": {
   "codemirror_mode": {
    "name": "ipython",
    "version": 3
   },
   "file_extension": ".py",
   "mimetype": "text/x-python",
   "name": "python",
   "nbconvert_exporter": "python",
   "pygments_lexer": "ipython3",
   "version": "3.6.3"
  }
 },
 "nbformat": 4,
 "nbformat_minor": 2
}
